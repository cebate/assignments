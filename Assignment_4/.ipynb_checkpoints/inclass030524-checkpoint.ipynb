{
 "cells": [
  {
   "cell_type": "markdown",
   "id": "c78102f3-488b-4290-b175-5d013cb5126a",
   "metadata": {},
   "source": [
    "# Pandas fundamentals"
   ]
  },
  {
   "cell_type": "code",
   "execution_count": 1,
   "id": "e429554b-18ae-43a1-99b9-2fba3ce6f29e",
   "metadata": {},
   "outputs": [],
   "source": [
    "import pandas as pd\n",
    "import numpy as np\n",
    "from matplotlib import pyplot as plt"
   ]
  },
  {
   "cell_type": "code",
   "execution_count": 2,
   "id": "4da39d14-7cda-436c-8edb-77832b9285f0",
   "metadata": {},
   "outputs": [],
   "source": [
    "names = ['Mercury','Venus','Earth']\n",
    "values = [0.3e24, 4.87e24, 5.97e24]"
   ]
  },
  {
   "cell_type": "code",
   "execution_count": 3,
   "id": "c2b30953-e8fe-4939-a389-8c5dd5723661",
   "metadata": {},
   "outputs": [
    {
     "data": {
      "text/plain": [
       "Mercury    3.000000e+23\n",
       "Venus      4.870000e+24\n",
       "Earth      5.970000e+24\n",
       "dtype: float64"
      ]
     },
     "execution_count": 3,
     "metadata": {},
     "output_type": "execute_result"
    }
   ],
   "source": [
    "masses = pd.Series(values, index=names)\n",
    "masses"
   ]
  },
  {
   "cell_type": "code",
   "execution_count": 4,
   "id": "4acf8bf1-e3c4-4d6d-92ba-02822945c3d0",
   "metadata": {},
   "outputs": [
    {
     "data": {
      "text/plain": [
       "pandas.core.series.Series"
      ]
     },
     "execution_count": 4,
     "metadata": {},
     "output_type": "execute_result"
    }
   ],
   "source": [
    "type(masses)"
   ]
  },
  {
   "cell_type": "code",
   "execution_count": 5,
   "id": "cb2b28b0-ce27-44e2-ae93-d30e3a2f31c4",
   "metadata": {},
   "outputs": [
    {
     "data": {
      "text/plain": [
       "(3,)"
      ]
     },
     "execution_count": 5,
     "metadata": {},
     "output_type": "execute_result"
    }
   ],
   "source": [
    "masses.shape"
   ]
  },
  {
   "cell_type": "code",
   "execution_count": 6,
   "id": "8fc0d1e8-98b8-4465-aa60-e22f8b00ee4f",
   "metadata": {},
   "outputs": [
    {
     "data": {
      "text/plain": [
       "array([3.00e+23, 4.87e+24, 5.97e+24])"
      ]
     },
     "execution_count": 6,
     "metadata": {},
     "output_type": "execute_result"
    }
   ],
   "source": [
    "masses.to_numpy()"
   ]
  },
  {
   "cell_type": "code",
   "execution_count": 7,
   "id": "57444e3a-32bb-4d41-8c5f-64f86bef6c7b",
   "metadata": {},
   "outputs": [],
   "source": [
    "masses.to_csv('mymassfile.csv')"
   ]
  },
  {
   "cell_type": "code",
   "execution_count": 9,
   "id": "935e0c6c-8cdd-4caf-a1a6-567d3cca741f",
   "metadata": {},
   "outputs": [
    {
     "data": {
      "text/plain": [
       "{'Mercury': 3e+23, 'Venus': 4.87e+24, 'Earth': 5.97e+24}"
      ]
     },
     "execution_count": 9,
     "metadata": {},
     "output_type": "execute_result"
    }
   ],
   "source": [
    "massdict = {'Mercury':3e23, 'Venus':4.87e24, 'Earth':5.97e24}\n",
    "massdict"
   ]
  },
  {
   "cell_type": "code",
   "execution_count": 10,
   "id": "09ff352a-448f-4d11-9884-b2416107507d",
   "metadata": {},
   "outputs": [
    {
     "data": {
      "text/plain": [
       "Mercury    3.000000e+23\n",
       "Venus      4.870000e+24\n",
       "Earth      5.970000e+24\n",
       "dtype: float64"
      ]
     },
     "execution_count": 10,
     "metadata": {},
     "output_type": "execute_result"
    }
   ],
   "source": [
    "ser = pd.Series(massdict)\n",
    "ser"
   ]
  },
  {
   "cell_type": "code",
   "execution_count": 11,
   "id": "31f10374-cb20-4a94-85c3-9fa74d36d1f2",
   "metadata": {},
   "outputs": [
    {
     "data": {
      "text/plain": [
       "<Axes: >"
      ]
     },
     "execution_count": 11,
     "metadata": {},
     "output_type": "execute_result"
    },
    {
     "data": {
      "image/png": "[encoded data removed]",
      "text/plain": [
       "<Figure size 640x480 with 1 Axes>"
      ]
     },
     "metadata": {},
     "output_type": "display_data"
    }
   ],
   "source": [
    "masses.plot(kind = 'bar')"
   ]
  },
  {
   "cell_type": "code",
   "execution_count": 12,
   "id": "a6ef9973-0415-4d07-a2ff-ca087da2cbc8",
   "metadata": {},
   "outputs": [
    {
     "data": {
      "text/plain": [
       "<Axes: >"
      ]
     },
     "execution_count": 12,
     "metadata": {},
     "output_type": "execute_result"
    },
    {
     "data": {
      "image/png": "[encoded data removed]",
      "text/plain": [
       "<Figure size 640x480 with 1 Axes>"
      ]
     },
     "metadata": {},
     "output_type": "display_data"
    }
   ],
   "source": [
    "masses.plot(kind='pie')"
   ]
  },
  {
   "cell_type": "code",
   "execution_count": 13,
   "id": "78413878-1628-43eb-bcbe-66a6c896e667",
   "metadata": {},
   "outputs": [
    {
     "data": {
      "text/plain": [
       "Mercury    6.006452e-46\n",
       "Venus      2.396820e-48\n",
       "Earth      1.600655e-48\n",
       "dtype: float64"
      ]
     },
     "execution_count": 13,
     "metadata": {},
     "output_type": "execute_result"
    }
   ],
   "source": [
    "np.log(masses) / masses**2"
   ]
  },
  {
   "cell_type": "code",
   "execution_count": 17,
   "id": "705683ce-a277-4da3-ade6-cc9ff52d2b1a",
   "metadata": {},
   "outputs": [
    {
     "data": {
      "text/plain": [
       "array([3.00e+23, 4.87e+24, 5.97e+24])"
      ]
     },
     "execution_count": 17,
     "metadata": {},
     "output_type": "execute_result"
    }
   ],
   "source": [
    "masses.values"
   ]
  },
  {
   "cell_type": "code",
   "execution_count": 15,
   "id": "218ebaa9-6e0e-4d46-9fe4-1d9b4c2db251",
   "metadata": {},
   "outputs": [
    {
     "data": {
      "text/plain": [
       "Index(['Mercury', 'Venus', 'Earth'], dtype='object')"
      ]
     },
     "execution_count": 15,
     "metadata": {},
     "output_type": "execute_result"
    }
   ],
   "source": [
    "masses.index"
   ]
  },
  {
   "cell_type": "code",
   "execution_count": 16,
   "id": "dd714bd1-3b1f-428b-a279-b6836f995ae1",
   "metadata": {},
   "outputs": [
    {
     "data": {
      "text/plain": [
       "Planet 1    3.000000e+23\n",
       "Planet 2    4.870000e+24\n",
       "Planet 3    5.970000e+24\n",
       "dtype: float64"
      ]
     },
     "execution_count": 16,
     "metadata": {},
     "output_type": "execute_result"
    }
   ],
   "source": [
    "ser.index = ['Planet 1','Planet 2', 'Planet 3']\n",
    "ser"
   ]
  },
  {
   "cell_type": "code",
   "execution_count": 18,
   "id": "404a4211-53ef-4bff-a2b7-a687dee67abd",
   "metadata": {},
   "outputs": [
    {
     "data": {
      "text/plain": [
       "4.87e+24"
      ]
     },
     "execution_count": 18,
     "metadata": {},
     "output_type": "execute_result"
    }
   ],
   "source": [
    "masses.loc['Venus']"
   ]
  },
  {
   "cell_type": "code",
   "execution_count": 19,
   "id": "0807e0b4-d7e6-4783-b319-4be868a0a014",
   "metadata": {},
   "outputs": [
    {
     "data": {
      "text/plain": [
       "4.87e+24"
      ]
     },
     "execution_count": 19,
     "metadata": {},
     "output_type": "execute_result"
    }
   ],
   "source": [
    "masses['Venus'] # less good practice than using .loc"
   ]
  },
  {
   "cell_type": "code",
   "execution_count": 20,
   "id": "efb54909-6fd1-47ea-8884-24063fdd8dca",
   "metadata": {},
   "outputs": [
    {
     "data": {
      "text/plain": [
       "Venus    4.870000e+24\n",
       "Earth    5.970000e+24\n",
       "dtype: float64"
      ]
     },
     "execution_count": 20,
     "metadata": {},
     "output_type": "execute_result"
    }
   ],
   "source": [
    "masses.loc[['Venus','Earth']]"
   ]
  },
  {
   "cell_type": "code",
   "execution_count": 21,
   "id": "b4cbb032-b57a-4774-8df3-f1da88064c92",
   "metadata": {},
   "outputs": [
    {
     "data": {
      "text/plain": [
       "Mercury    3.000000e+23\n",
       "Venus      4.870000e+24\n",
       "dtype: float64"
      ]
     },
     "execution_count": 21,
     "metadata": {},
     "output_type": "execute_result"
    }
   ],
   "source": [
    "masses.loc['Mercury':'Venus'] # one of rare times right-inclusive"
   ]
  },
  {
   "cell_type": "code",
   "execution_count": 22,
   "id": "ec53cceb-16fd-492a-ba16-5852a0a32110",
   "metadata": {},
   "outputs": [
    {
     "data": {
      "text/plain": [
       "Mercury    3.000000e+23\n",
       "Venus      4.870000e+24\n",
       "dtype: float64"
      ]
     },
     "execution_count": 22,
     "metadata": {},
     "output_type": "execute_result"
    }
   ],
   "source": [
    "masses.iloc[:2]"
   ]
  },
  {
   "cell_type": "code",
   "execution_count": 23,
   "id": "85f70812-9858-484f-8bd3-d603b9ed2cc1",
   "metadata": {},
   "outputs": [
    {
     "data": {
      "text/plain": [
       "Venus    4.870000e+24\n",
       "Earth    5.970000e+24\n",
       "dtype: float64"
      ]
     },
     "execution_count": 23,
     "metadata": {},
     "output_type": "execute_result"
    }
   ],
   "source": [
    "masses.loc[masses>3.1e23]"
   ]
  },
  {
   "cell_type": "code",
   "execution_count": 24,
   "id": "08eb2b75-1794-41a3-be5e-e512f7b6d720",
   "metadata": {},
   "outputs": [
    {
     "data": {
      "text/plain": [
       "Mercury    False\n",
       "Venus       True\n",
       "Earth       True\n",
       "dtype: bool"
      ]
     },
     "execution_count": 24,
     "metadata": {},
     "output_type": "execute_result"
    }
   ],
   "source": [
    "masses>3.1e23"
   ]
  },
  {
   "cell_type": "markdown",
   "id": "7275d5f3-e995-4199-a14a-37f4e6042251",
   "metadata": {},
   "source": [
    "# Dataframe"
   ]
  },
  {
   "cell_type": "code",
   "execution_count": 25,
   "id": "ecdad097-6589-4ee3-b8cd-fa75fe7546cd",
   "metadata": {},
   "outputs": [],
   "source": [
    "data = {'mass': [0.3e24,4.87e24,5.97e24],\n",
    "        'diameter':[4879e3,12104e3,12756e3],\n",
    "        'rotation_period': [1407.6,np.nan,23.9]\n",
    "       }"
   ]
  },
  {
   "cell_type": "code",
   "execution_count": 26,
   "id": "e27a0589-95e5-4354-9918-e7a5adf2bedf",
   "metadata": {},
   "outputs": [
    {
     "data": {
      "text/plain": [
       "{'mass': [3e+23, 4.87e+24, 5.97e+24],\n",
       " 'diameter': [4879000.0, 12104000.0, 12756000.0],\n",
       " 'rotation_period': [1407.6, nan, 23.9]}"
      ]
     },
     "execution_count": 26,
     "metadata": {},
     "output_type": "execute_result"
    }
   ],
   "source": [
    "data"
   ]
  },
  {
   "cell_type": "code",
   "execution_count": 28,
   "id": "da01e0d5-f11a-4609-b9fd-6cd71d82109d",
   "metadata": {},
   "outputs": [
    {
     "data": {
      "text/html": [
       "<div>\n",
       "<style scoped>\n",
       "    .dataframe tbody tr th:only-of-type {\n",
       "        vertical-align: middle;\n",
       "    }\n",
       "\n",
       "    .dataframe tbody tr th {\n",
       "        vertical-align: top;\n",
       "    }\n",
       "\n",
       "    .dataframe thead th {\n",
       "        text-align: right;\n",
       "    }\n",
       "</style>\n",
       "<table border=\"1\" class=\"dataframe\">\n",
       "  <thead>\n",
       "    <tr style=\"text-align: right;\">\n",
       "      <th></th>\n",
       "      <th>mass</th>\n",
       "      <th>diameter</th>\n",
       "      <th>rotation_period</th>\n",
       "    </tr>\n",
       "  </thead>\n",
       "  <tbody>\n",
       "    <tr>\n",
       "      <th>0</th>\n",
       "      <td>3.000000e+23</td>\n",
       "      <td>4879000.0</td>\n",
       "      <td>1407.6</td>\n",
       "    </tr>\n",
       "    <tr>\n",
       "      <th>1</th>\n",
       "      <td>4.870000e+24</td>\n",
       "      <td>12104000.0</td>\n",
       "      <td>NaN</td>\n",
       "    </tr>\n",
       "    <tr>\n",
       "      <th>2</th>\n",
       "      <td>5.970000e+24</td>\n",
       "      <td>12756000.0</td>\n",
       "      <td>23.9</td>\n",
       "    </tr>\n",
       "  </tbody>\n",
       "</table>\n",
       "</div>"
      ],
      "text/plain": [
       "           mass    diameter  rotation_period\n",
       "0  3.000000e+23   4879000.0           1407.6\n",
       "1  4.870000e+24  12104000.0              NaN\n",
       "2  5.970000e+24  12756000.0             23.9"
      ]
     },
     "execution_count": 28,
     "metadata": {},
     "output_type": "execute_result"
    }
   ],
   "source": [
    "df = pd.DataFrame(data)\n",
    "df"
   ]
  },
  {
   "cell_type": "code",
   "execution_count": 29,
   "id": "898ad04f-924e-41f2-bc05-72a4af5e1e7e",
   "metadata": {},
   "outputs": [
    {
     "data": {
      "text/html": [
       "<div>\n",
       "<style scoped>\n",
       "    .dataframe tbody tr th:only-of-type {\n",
       "        vertical-align: middle;\n",
       "    }\n",
       "\n",
       "    .dataframe tbody tr th {\n",
       "        vertical-align: top;\n",
       "    }\n",
       "\n",
       "    .dataframe thead th {\n",
       "        text-align: right;\n",
       "    }\n",
       "</style>\n",
       "<table border=\"1\" class=\"dataframe\">\n",
       "  <thead>\n",
       "    <tr style=\"text-align: right;\">\n",
       "      <th></th>\n",
       "      <th>mass</th>\n",
       "      <th>diameter</th>\n",
       "      <th>rotation_period</th>\n",
       "    </tr>\n",
       "  </thead>\n",
       "  <tbody>\n",
       "    <tr>\n",
       "      <th>Mercury</th>\n",
       "      <td>3.000000e+23</td>\n",
       "      <td>4879000.0</td>\n",
       "      <td>1407.6</td>\n",
       "    </tr>\n",
       "    <tr>\n",
       "      <th>Venus</th>\n",
       "      <td>4.870000e+24</td>\n",
       "      <td>12104000.0</td>\n",
       "      <td>NaN</td>\n",
       "    </tr>\n",
       "    <tr>\n",
       "      <th>Earth</th>\n",
       "      <td>5.970000e+24</td>\n",
       "      <td>12756000.0</td>\n",
       "      <td>23.9</td>\n",
       "    </tr>\n",
       "  </tbody>\n",
       "</table>\n",
       "</div>"
      ],
      "text/plain": [
       "                 mass    diameter  rotation_period\n",
       "Mercury  3.000000e+23   4879000.0           1407.6\n",
       "Venus    4.870000e+24  12104000.0              NaN\n",
       "Earth    5.970000e+24  12756000.0             23.9"
      ]
     },
     "execution_count": 29,
     "metadata": {},
     "output_type": "execute_result"
    }
   ],
   "source": [
    "df = pd.DataFrame(data, index=['Mercury','Venus','Earth'])\n",
    "df"
   ]
  },
  {
   "cell_type": "code",
   "execution_count": 30,
   "id": "16526e15-dcaa-42f8-ba74-96bfb2061bd2",
   "metadata": {},
   "outputs": [
    {
     "data": {
      "text/html": [
       "<div>\n",
       "<style scoped>\n",
       "    .dataframe tbody tr th:only-of-type {\n",
       "        vertical-align: middle;\n",
       "    }\n",
       "\n",
       "    .dataframe tbody tr th {\n",
       "        vertical-align: top;\n",
       "    }\n",
       "\n",
       "    .dataframe thead th {\n",
       "        text-align: right;\n",
       "    }\n",
       "</style>\n",
       "<table border=\"1\" class=\"dataframe\">\n",
       "  <thead>\n",
       "    <tr style=\"text-align: right;\">\n",
       "      <th></th>\n",
       "      <th>mass</th>\n",
       "      <th>diameter</th>\n",
       "      <th>rotation_period</th>\n",
       "    </tr>\n",
       "  </thead>\n",
       "  <tbody>\n",
       "    <tr>\n",
       "      <th>Mercury</th>\n",
       "      <td>3.000000e+23</td>\n",
       "      <td>4879000.0</td>\n",
       "      <td>1407.6</td>\n",
       "    </tr>\n",
       "  </tbody>\n",
       "</table>\n",
       "</div>"
      ],
      "text/plain": [
       "                 mass   diameter  rotation_period\n",
       "Mercury  3.000000e+23  4879000.0           1407.6"
      ]
     },
     "execution_count": 30,
     "metadata": {},
     "output_type": "execute_result"
    }
   ],
   "source": [
    "df.head(1)"
   ]
  },
  {
   "cell_type": "code",
   "execution_count": 31,
   "id": "85b7123c-1be1-44b0-ade3-6259d682487d",
   "metadata": {},
   "outputs": [
    {
     "data": {
      "text/html": [
       "<div>\n",
       "<style scoped>\n",
       "    .dataframe tbody tr th:only-of-type {\n",
       "        vertical-align: middle;\n",
       "    }\n",
       "\n",
       "    .dataframe tbody tr th {\n",
       "        vertical-align: top;\n",
       "    }\n",
       "\n",
       "    .dataframe thead th {\n",
       "        text-align: right;\n",
       "    }\n",
       "</style>\n",
       "<table border=\"1\" class=\"dataframe\">\n",
       "  <thead>\n",
       "    <tr style=\"text-align: right;\">\n",
       "      <th></th>\n",
       "      <th>mass</th>\n",
       "      <th>diameter</th>\n",
       "      <th>rotation_period</th>\n",
       "    </tr>\n",
       "  </thead>\n",
       "  <tbody>\n",
       "    <tr>\n",
       "      <th>Earth</th>\n",
       "      <td>5.970000e+24</td>\n",
       "      <td>12756000.0</td>\n",
       "      <td>23.9</td>\n",
       "    </tr>\n",
       "  </tbody>\n",
       "</table>\n",
       "</div>"
      ],
      "text/plain": [
       "               mass    diameter  rotation_period\n",
       "Earth  5.970000e+24  12756000.0             23.9"
      ]
     },
     "execution_count": 31,
     "metadata": {},
     "output_type": "execute_result"
    }
   ],
   "source": [
    "df.tail(1)"
   ]
  },
  {
   "cell_type": "code",
   "execution_count": 32,
   "id": "ecea2af7-21d1-4cd4-a231-be4378e90803",
   "metadata": {},
   "outputs": [
    {
     "data": {
      "text/html": [
       "<div>\n",
       "<style scoped>\n",
       "    .dataframe tbody tr th:only-of-type {\n",
       "        vertical-align: middle;\n",
       "    }\n",
       "\n",
       "    .dataframe tbody tr th {\n",
       "        vertical-align: top;\n",
       "    }\n",
       "\n",
       "    .dataframe thead th {\n",
       "        text-align: right;\n",
       "    }\n",
       "</style>\n",
       "<table border=\"1\" class=\"dataframe\">\n",
       "  <thead>\n",
       "    <tr style=\"text-align: right;\">\n",
       "      <th></th>\n",
       "      <th>mass</th>\n",
       "      <th>diameter</th>\n",
       "      <th>rotation_period</th>\n",
       "    </tr>\n",
       "  </thead>\n",
       "  <tbody>\n",
       "    <tr>\n",
       "      <th>Venus</th>\n",
       "      <td>4.870000e+24</td>\n",
       "      <td>12104000.0</td>\n",
       "      <td>NaN</td>\n",
       "    </tr>\n",
       "    <tr>\n",
       "      <th>Earth</th>\n",
       "      <td>5.970000e+24</td>\n",
       "      <td>12756000.0</td>\n",
       "      <td>23.9</td>\n",
       "    </tr>\n",
       "  </tbody>\n",
       "</table>\n",
       "</div>"
      ],
      "text/plain": [
       "               mass    diameter  rotation_period\n",
       "Venus  4.870000e+24  12104000.0              NaN\n",
       "Earth  5.970000e+24  12756000.0             23.9"
      ]
     },
     "execution_count": 32,
     "metadata": {},
     "output_type": "execute_result"
    }
   ],
   "source": [
    "df.tail(2)"
   ]
  },
  {
   "cell_type": "code",
   "execution_count": 33,
   "id": "43ce0efb-c13f-4482-80e4-5989830df2c9",
   "metadata": {},
   "outputs": [
    {
     "name": "stdout",
     "output_type": "stream",
     "text": [
      "<class 'pandas.core.frame.DataFrame'>\n",
      "Index: 3 entries, Mercury to Earth\n",
      "Data columns (total 3 columns):\n",
      " #   Column           Non-Null Count  Dtype  \n",
      "---  ------           --------------  -----  \n",
      " 0   mass             3 non-null      float64\n",
      " 1   diameter         3 non-null      float64\n",
      " 2   rotation_period  2 non-null      float64\n",
      "dtypes: float64(3)\n",
      "memory usage: 96.0+ bytes\n"
     ]
    }
   ],
   "source": [
    "df.info()"
   ]
  },
  {
   "cell_type": "code",
   "execution_count": 34,
   "id": "df050c2e-309f-4bc1-bf1c-c07f3f9d95c1",
   "metadata": {},
   "outputs": [
    {
     "data": {
      "text/plain": [
       "mass               3.000000e+23\n",
       "diameter           4.879000e+06\n",
       "rotation_period    2.390000e+01\n",
       "dtype: float64"
      ]
     },
     "execution_count": 34,
     "metadata": {},
     "output_type": "execute_result"
    }
   ],
   "source": [
    "df.min() # does by column"
   ]
  },
  {
   "cell_type": "code",
   "execution_count": 35,
   "id": "e87e114e-f883-4de0-b77f-9b2221773526",
   "metadata": {},
   "outputs": [
    {
     "data": {
      "text/html": [
       "<div>\n",
       "<style scoped>\n",
       "    .dataframe tbody tr th:only-of-type {\n",
       "        vertical-align: middle;\n",
       "    }\n",
       "\n",
       "    .dataframe tbody tr th {\n",
       "        vertical-align: top;\n",
       "    }\n",
       "\n",
       "    .dataframe thead th {\n",
       "        text-align: right;\n",
       "    }\n",
       "</style>\n",
       "<table border=\"1\" class=\"dataframe\">\n",
       "  <thead>\n",
       "    <tr style=\"text-align: right;\">\n",
       "      <th></th>\n",
       "      <th>mass</th>\n",
       "      <th>diameter</th>\n",
       "      <th>rotation_period</th>\n",
       "    </tr>\n",
       "  </thead>\n",
       "  <tbody>\n",
       "    <tr>\n",
       "      <th>count</th>\n",
       "      <td>3.000000e+00</td>\n",
       "      <td>3.000000e+00</td>\n",
       "      <td>2.000000</td>\n",
       "    </tr>\n",
       "    <tr>\n",
       "      <th>mean</th>\n",
       "      <td>3.713333e+24</td>\n",
       "      <td>9.913000e+06</td>\n",
       "      <td>715.750000</td>\n",
       "    </tr>\n",
       "    <tr>\n",
       "      <th>std</th>\n",
       "      <td>3.006765e+24</td>\n",
       "      <td>4.371744e+06</td>\n",
       "      <td>978.423653</td>\n",
       "    </tr>\n",
       "    <tr>\n",
       "      <th>min</th>\n",
       "      <td>3.000000e+23</td>\n",
       "      <td>4.879000e+06</td>\n",
       "      <td>23.900000</td>\n",
       "    </tr>\n",
       "    <tr>\n",
       "      <th>25%</th>\n",
       "      <td>2.585000e+24</td>\n",
       "      <td>8.491500e+06</td>\n",
       "      <td>369.825000</td>\n",
       "    </tr>\n",
       "    <tr>\n",
       "      <th>50%</th>\n",
       "      <td>4.870000e+24</td>\n",
       "      <td>1.210400e+07</td>\n",
       "      <td>715.750000</td>\n",
       "    </tr>\n",
       "    <tr>\n",
       "      <th>75%</th>\n",
       "      <td>5.420000e+24</td>\n",
       "      <td>1.243000e+07</td>\n",
       "      <td>1061.675000</td>\n",
       "    </tr>\n",
       "    <tr>\n",
       "      <th>max</th>\n",
       "      <td>5.970000e+24</td>\n",
       "      <td>1.275600e+07</td>\n",
       "      <td>1407.600000</td>\n",
       "    </tr>\n",
       "  </tbody>\n",
       "</table>\n",
       "</div>"
      ],
      "text/plain": [
       "               mass      diameter  rotation_period\n",
       "count  3.000000e+00  3.000000e+00         2.000000\n",
       "mean   3.713333e+24  9.913000e+06       715.750000\n",
       "std    3.006765e+24  4.371744e+06       978.423653\n",
       "min    3.000000e+23  4.879000e+06        23.900000\n",
       "25%    2.585000e+24  8.491500e+06       369.825000\n",
       "50%    4.870000e+24  1.210400e+07       715.750000\n",
       "75%    5.420000e+24  1.243000e+07      1061.675000\n",
       "max    5.970000e+24  1.275600e+07      1407.600000"
      ]
     },
     "execution_count": 35,
     "metadata": {},
     "output_type": "execute_result"
    }
   ],
   "source": [
    "df.describe()"
   ]
  },
  {
   "cell_type": "code",
   "execution_count": 36,
   "id": "2f719d13-c907-48c0-826e-99b6620fa691",
   "metadata": {},
   "outputs": [
    {
     "data": {
      "text/plain": [
       "mass               3.006765e+24\n",
       "diameter           4.371744e+06\n",
       "rotation_period    9.784237e+02\n",
       "dtype: float64"
      ]
     },
     "execution_count": 36,
     "metadata": {},
     "output_type": "execute_result"
    }
   ],
   "source": [
    "df.std()"
   ]
  },
  {
   "cell_type": "code",
   "execution_count": 37,
   "id": "415fc3e6-9e56-4801-bf73-200ba610b8ab",
   "metadata": {},
   "outputs": [
    {
     "data": {
      "text/plain": [
       "4371743.702460152"
      ]
     },
     "execution_count": 37,
     "metadata": {},
     "output_type": "execute_result"
    }
   ],
   "source": [
    "df.diameter.std()"
   ]
  },
  {
   "cell_type": "code",
   "execution_count": 38,
   "id": "b003b3fb-9528-46d7-bb9e-7ac0e01f5b52",
   "metadata": {},
   "outputs": [
    {
     "data": {
      "text/html": [
       "<div>\n",
       "<style scoped>\n",
       "    .dataframe tbody tr th:only-of-type {\n",
       "        vertical-align: middle;\n",
       "    }\n",
       "\n",
       "    .dataframe tbody tr th {\n",
       "        vertical-align: top;\n",
       "    }\n",
       "\n",
       "    .dataframe thead th {\n",
       "        text-align: right;\n",
       "    }\n",
       "</style>\n",
       "<table border=\"1\" class=\"dataframe\">\n",
       "  <thead>\n",
       "    <tr style=\"text-align: right;\">\n",
       "      <th></th>\n",
       "      <th>mass</th>\n",
       "      <th>diameter</th>\n",
       "      <th>rotation_period</th>\n",
       "    </tr>\n",
       "  </thead>\n",
       "  <tbody>\n",
       "    <tr>\n",
       "      <th>Mercury</th>\n",
       "      <td>False</td>\n",
       "      <td>False</td>\n",
       "      <td>False</td>\n",
       "    </tr>\n",
       "    <tr>\n",
       "      <th>Venus</th>\n",
       "      <td>False</td>\n",
       "      <td>False</td>\n",
       "      <td>True</td>\n",
       "    </tr>\n",
       "    <tr>\n",
       "      <th>Earth</th>\n",
       "      <td>False</td>\n",
       "      <td>False</td>\n",
       "      <td>False</td>\n",
       "    </tr>\n",
       "  </tbody>\n",
       "</table>\n",
       "</div>"
      ],
      "text/plain": [
       "          mass  diameter  rotation_period\n",
       "Mercury  False     False            False\n",
       "Venus    False     False             True\n",
       "Earth    False     False            False"
      ]
     },
     "execution_count": 38,
     "metadata": {},
     "output_type": "execute_result"
    }
   ],
   "source": [
    "df.isna()"
   ]
  },
  {
   "cell_type": "code",
   "execution_count": 39,
   "id": "d6e754da-3a28-4766-b529-136a4ccd023e",
   "metadata": {},
   "outputs": [
    {
     "data": {
      "text/plain": [
       "Mercury    3.000000e+23\n",
       "Venus      4.870000e+24\n",
       "Earth      5.970000e+24\n",
       "Name: mass, dtype: float64"
      ]
     },
     "execution_count": 39,
     "metadata": {},
     "output_type": "execute_result"
    }
   ],
   "source": [
    "df['mass']"
   ]
  },
  {
   "cell_type": "code",
   "execution_count": 40,
   "id": "ba9f4127-3927-4921-b9cd-b699dc740642",
   "metadata": {},
   "outputs": [
    {
     "data": {
      "text/plain": [
       "Mercury    3.000000e+23\n",
       "Venus      4.870000e+24\n",
       "Earth      5.970000e+24\n",
       "Name: mass, dtype: float64"
      ]
     },
     "execution_count": 40,
     "metadata": {},
     "output_type": "execute_result"
    }
   ],
   "source": [
    "df.mass"
   ]
  },
  {
   "cell_type": "code",
   "execution_count": null,
   "id": "f01c5ff1-45b9-4a9a-b12b-925682d7be7a",
   "metadata": {},
   "outputs": [],
   "source": [
    "df['Mercury'] # will give error bc only works for columns"
   ]
  },
  {
   "cell_type": "code",
   "execution_count": 43,
   "id": "a92c0549-747b-4a76-8d54-95d2c7672ba4",
   "metadata": {},
   "outputs": [
    {
     "data": {
      "text/plain": [
       "mass               3.000000e+23\n",
       "diameter           4.879000e+06\n",
       "rotation_period    1.407600e+03\n",
       "Name: Mercury, dtype: float64"
      ]
     },
     "execution_count": 43,
     "metadata": {},
     "output_type": "execute_result"
    }
   ],
   "source": [
    "df.loc['Mercury']"
   ]
  },
  {
   "cell_type": "code",
   "execution_count": 44,
   "id": "49e454a6-a3e2-475b-ac48-a43f686e388c",
   "metadata": {},
   "outputs": [
    {
     "data": {
      "text/plain": [
       "mass               3.000000e+23\n",
       "diameter           4.879000e+06\n",
       "rotation_period    1.407600e+03\n",
       "Name: Mercury, dtype: float64"
      ]
     },
     "execution_count": 44,
     "metadata": {},
     "output_type": "execute_result"
    }
   ],
   "source": [
    "df.iloc[0]"
   ]
  },
  {
   "cell_type": "code",
   "execution_count": 45,
   "id": "1d6b01ba-a2c7-4cd9-acda-ebae3126e920",
   "metadata": {},
   "outputs": [
    {
     "data": {
      "text/plain": [
       "5.97e+24"
      ]
     },
     "execution_count": 45,
     "metadata": {},
     "output_type": "execute_result"
    }
   ],
   "source": [
    "df.loc['Earth','mass']"
   ]
  },
  {
   "cell_type": "code",
   "execution_count": 46,
   "id": "20c25819-b7ad-4ff0-890a-6084bd3df109",
   "metadata": {},
   "outputs": [
    {
     "data": {
      "text/plain": [
       "Mercury    3.000000e+23\n",
       "Venus      4.870000e+24\n",
       "Name: mass, dtype: float64"
      ]
     },
     "execution_count": 46,
     "metadata": {},
     "output_type": "execute_result"
    }
   ],
   "source": [
    "df.iloc[:2,0]"
   ]
  },
  {
   "cell_type": "code",
   "execution_count": 47,
   "id": "a375f551-e281-4e19-b0d5-03b0cb09f4a6",
   "metadata": {},
   "outputs": [
    {
     "data": {
      "text/plain": [
       "Mercury    6.081225e+19\n",
       "Venus      9.285074e+20\n",
       "Earth      1.086781e+21\n",
       "Name: diameter, dtype: float64"
      ]
     },
     "execution_count": 47,
     "metadata": {},
     "output_type": "execute_result"
    }
   ],
   "source": [
    "volume = 4/3 * np.pi * (df.diameter/2)**3\n",
    "volume"
   ]
  },
  {
   "cell_type": "code",
   "execution_count": 48,
   "id": "af14d30e-224f-4a5e-af85-8d449a12f44d",
   "metadata": {},
   "outputs": [
    {
     "data": {
      "text/plain": [
       "Mercury    4933.216530\n",
       "Venus      5244.977070\n",
       "Earth      5493.285577\n",
       "dtype: float64"
      ]
     },
     "execution_count": 48,
     "metadata": {},
     "output_type": "execute_result"
    }
   ],
   "source": [
    "df.mass/volume"
   ]
  },
  {
   "cell_type": "code",
   "execution_count": 50,
   "id": "1ee5d1c9-e4b9-4481-b048-d99da4b92240",
   "metadata": {},
   "outputs": [
    {
     "data": {
      "text/html": [
       "<div>\n",
       "<style scoped>\n",
       "    .dataframe tbody tr th:only-of-type {\n",
       "        vertical-align: middle;\n",
       "    }\n",
       "\n",
       "    .dataframe tbody tr th {\n",
       "        vertical-align: top;\n",
       "    }\n",
       "\n",
       "    .dataframe thead th {\n",
       "        text-align: right;\n",
       "    }\n",
       "</style>\n",
       "<table border=\"1\" class=\"dataframe\">\n",
       "  <thead>\n",
       "    <tr style=\"text-align: right;\">\n",
       "      <th></th>\n",
       "      <th>mass</th>\n",
       "      <th>diameter</th>\n",
       "      <th>rotation_period</th>\n",
       "      <th>density</th>\n",
       "    </tr>\n",
       "  </thead>\n",
       "  <tbody>\n",
       "    <tr>\n",
       "      <th>Mercury</th>\n",
       "      <td>3.000000e+23</td>\n",
       "      <td>4879000.0</td>\n",
       "      <td>1407.6</td>\n",
       "      <td>4933.216530</td>\n",
       "    </tr>\n",
       "    <tr>\n",
       "      <th>Venus</th>\n",
       "      <td>4.870000e+24</td>\n",
       "      <td>12104000.0</td>\n",
       "      <td>NaN</td>\n",
       "      <td>5244.977070</td>\n",
       "    </tr>\n",
       "    <tr>\n",
       "      <th>Earth</th>\n",
       "      <td>5.970000e+24</td>\n",
       "      <td>12756000.0</td>\n",
       "      <td>23.9</td>\n",
       "      <td>5493.285577</td>\n",
       "    </tr>\n",
       "  </tbody>\n",
       "</table>\n",
       "</div>"
      ],
      "text/plain": [
       "                 mass    diameter  rotation_period      density\n",
       "Mercury  3.000000e+23   4879000.0           1407.6  4933.216530\n",
       "Venus    4.870000e+24  12104000.0              NaN  5244.977070\n",
       "Earth    5.970000e+24  12756000.0             23.9  5493.285577"
      ]
     },
     "execution_count": 50,
     "metadata": {},
     "output_type": "execute_result"
    }
   ],
   "source": [
    "df['density'] = df.mass/volume\n",
    "df"
   ]
  },
  {
   "cell_type": "markdown",
   "id": "a8bf7c09-19fc-4d33-9471-f668fa7ae498",
   "metadata": {},
   "source": [
    "## merging data"
   ]
  },
  {
   "cell_type": "code",
   "execution_count": 54,
   "id": "8da3afd0-a657-488a-912c-0ce69247aa4c",
   "metadata": {},
   "outputs": [
    {
     "data": {
      "text/plain": [
       "Mercury    167\n",
       "Venus      464\n",
       "Earth       15\n",
       "Mars       -65\n",
       "Name: temperature, dtype: int64"
      ]
     },
     "execution_count": 54,
     "metadata": {},
     "output_type": "execute_result"
    }
   ],
   "source": [
    "temperature = pd.Series([167, 464, 15, -65], index=['Mercury', 'Venus', 'Earth','Mars'], name='temperature')\n",
    "temperature"
   ]
  },
  {
   "cell_type": "code",
   "execution_count": 55,
   "id": "9f9bda23-4a4e-4617-bd46-3a9fb76ae41d",
   "metadata": {},
   "outputs": [
    {
     "data": {
      "text/html": [
       "<div>\n",
       "<style scoped>\n",
       "    .dataframe tbody tr th:only-of-type {\n",
       "        vertical-align: middle;\n",
       "    }\n",
       "\n",
       "    .dataframe tbody tr th {\n",
       "        vertical-align: top;\n",
       "    }\n",
       "\n",
       "    .dataframe thead th {\n",
       "        text-align: right;\n",
       "    }\n",
       "</style>\n",
       "<table border=\"1\" class=\"dataframe\">\n",
       "  <thead>\n",
       "    <tr style=\"text-align: right;\">\n",
       "      <th></th>\n",
       "      <th>mass</th>\n",
       "      <th>diameter</th>\n",
       "      <th>rotation_period</th>\n",
       "      <th>density</th>\n",
       "      <th>temperature</th>\n",
       "    </tr>\n",
       "  </thead>\n",
       "  <tbody>\n",
       "    <tr>\n",
       "      <th>Mercury</th>\n",
       "      <td>3.000000e+23</td>\n",
       "      <td>4879000.0</td>\n",
       "      <td>1407.6</td>\n",
       "      <td>4933.216530</td>\n",
       "      <td>167</td>\n",
       "    </tr>\n",
       "    <tr>\n",
       "      <th>Venus</th>\n",
       "      <td>4.870000e+24</td>\n",
       "      <td>12104000.0</td>\n",
       "      <td>NaN</td>\n",
       "      <td>5244.977070</td>\n",
       "      <td>464</td>\n",
       "    </tr>\n",
       "    <tr>\n",
       "      <th>Earth</th>\n",
       "      <td>5.970000e+24</td>\n",
       "      <td>12756000.0</td>\n",
       "      <td>23.9</td>\n",
       "      <td>5493.285577</td>\n",
       "      <td>15</td>\n",
       "    </tr>\n",
       "  </tbody>\n",
       "</table>\n",
       "</div>"
      ],
      "text/plain": [
       "                 mass    diameter  rotation_period      density  temperature\n",
       "Mercury  3.000000e+23   4879000.0           1407.6  4933.216530          167\n",
       "Venus    4.870000e+24  12104000.0              NaN  5244.977070          464\n",
       "Earth    5.970000e+24  12756000.0             23.9  5493.285577           15"
      ]
     },
     "execution_count": 55,
     "metadata": {},
     "output_type": "execute_result"
    }
   ],
   "source": [
    "df.join(temperature)"
   ]
  },
  {
   "cell_type": "code",
   "execution_count": 57,
   "id": "d8de6d47-2a27-4596-83a7-f9b4fe0aba9a",
   "metadata": {},
   "outputs": [
    {
     "data": {
      "text/html": [
       "<div>\n",
       "<style scoped>\n",
       "    .dataframe tbody tr th:only-of-type {\n",
       "        vertical-align: middle;\n",
       "    }\n",
       "\n",
       "    .dataframe tbody tr th {\n",
       "        vertical-align: top;\n",
       "    }\n",
       "\n",
       "    .dataframe thead th {\n",
       "        text-align: right;\n",
       "    }\n",
       "</style>\n",
       "<table border=\"1\" class=\"dataframe\">\n",
       "  <thead>\n",
       "    <tr style=\"text-align: right;\">\n",
       "      <th></th>\n",
       "      <th>mass</th>\n",
       "      <th>diameter</th>\n",
       "      <th>rotation_period</th>\n",
       "      <th>density</th>\n",
       "      <th>temperature</th>\n",
       "    </tr>\n",
       "  </thead>\n",
       "  <tbody>\n",
       "    <tr>\n",
       "      <th>Mercury</th>\n",
       "      <td>3.000000e+23</td>\n",
       "      <td>4879000.0</td>\n",
       "      <td>1407.6</td>\n",
       "      <td>4933.216530</td>\n",
       "      <td>167</td>\n",
       "    </tr>\n",
       "    <tr>\n",
       "      <th>Venus</th>\n",
       "      <td>4.870000e+24</td>\n",
       "      <td>12104000.0</td>\n",
       "      <td>NaN</td>\n",
       "      <td>5244.977070</td>\n",
       "      <td>464</td>\n",
       "    </tr>\n",
       "    <tr>\n",
       "      <th>Earth</th>\n",
       "      <td>5.970000e+24</td>\n",
       "      <td>12756000.0</td>\n",
       "      <td>23.9</td>\n",
       "      <td>5493.285577</td>\n",
       "      <td>15</td>\n",
       "    </tr>\n",
       "    <tr>\n",
       "      <th>Mars</th>\n",
       "      <td>NaN</td>\n",
       "      <td>NaN</td>\n",
       "      <td>NaN</td>\n",
       "      <td>NaN</td>\n",
       "      <td>-65</td>\n",
       "    </tr>\n",
       "  </tbody>\n",
       "</table>\n",
       "</div>"
      ],
      "text/plain": [
       "                 mass    diameter  rotation_period      density  temperature\n",
       "Mercury  3.000000e+23   4879000.0           1407.6  4933.216530          167\n",
       "Venus    4.870000e+24  12104000.0              NaN  5244.977070          464\n",
       "Earth    5.970000e+24  12756000.0             23.9  5493.285577           15\n",
       "Mars              NaN         NaN              NaN          NaN          -65"
      ]
     },
     "execution_count": 57,
     "metadata": {},
     "output_type": "execute_result"
    }
   ],
   "source": [
    "df.join(temperature, how='right')"
   ]
  },
  {
   "cell_type": "code",
   "execution_count": 58,
   "id": "db224b12-dc53-4eb6-bdac-2b36ce9151b2",
   "metadata": {},
   "outputs": [
    {
     "data": {
      "text/html": [
       "<div>\n",
       "<style scoped>\n",
       "    .dataframe tbody tr th:only-of-type {\n",
       "        vertical-align: middle;\n",
       "    }\n",
       "\n",
       "    .dataframe tbody tr th {\n",
       "        vertical-align: top;\n",
       "    }\n",
       "\n",
       "    .dataframe thead th {\n",
       "        text-align: right;\n",
       "    }\n",
       "</style>\n",
       "<table border=\"1\" class=\"dataframe\">\n",
       "  <thead>\n",
       "    <tr style=\"text-align: right;\">\n",
       "      <th></th>\n",
       "      <th>mass</th>\n",
       "      <th>diameter</th>\n",
       "      <th>rotation_period</th>\n",
       "      <th>density</th>\n",
       "    </tr>\n",
       "  </thead>\n",
       "  <tbody>\n",
       "    <tr>\n",
       "      <th>Mercury</th>\n",
       "      <td>3.000000e+23</td>\n",
       "      <td>4879000.0</td>\n",
       "      <td>1407.6</td>\n",
       "      <td>4933.216530</td>\n",
       "    </tr>\n",
       "    <tr>\n",
       "      <th>Venus</th>\n",
       "      <td>4.870000e+24</td>\n",
       "      <td>12104000.0</td>\n",
       "      <td>NaN</td>\n",
       "      <td>5244.977070</td>\n",
       "    </tr>\n",
       "    <tr>\n",
       "      <th>Earth</th>\n",
       "      <td>5.970000e+24</td>\n",
       "      <td>12756000.0</td>\n",
       "      <td>23.9</td>\n",
       "      <td>5493.285577</td>\n",
       "    </tr>\n",
       "    <tr>\n",
       "      <th>Mars</th>\n",
       "      <td>0.000000e+00</td>\n",
       "      <td>1.0</td>\n",
       "      <td>2.0</td>\n",
       "      <td>3.000000</td>\n",
       "    </tr>\n",
       "  </tbody>\n",
       "</table>\n",
       "</div>"
      ],
      "text/plain": [
       "                 mass    diameter  rotation_period      density\n",
       "Mercury  3.000000e+23   4879000.0           1407.6  4933.216530\n",
       "Venus    4.870000e+24  12104000.0              NaN  5244.977070\n",
       "Earth    5.970000e+24  12756000.0             23.9  5493.285577\n",
       "Mars     0.000000e+00         1.0              2.0     3.000000"
      ]
     },
     "execution_count": 58,
     "metadata": {},
     "output_type": "execute_result"
    }
   ],
   "source": [
    "df.loc['Mars','mass':'density'] = np.arange(4)\n",
    "df"
   ]
  },
  {
   "cell_type": "code",
   "execution_count": 60,
   "id": "ed2404ff-777a-47f4-bdf9-d60ba0b9b588",
   "metadata": {},
   "outputs": [
    {
     "data": {
      "text/html": [
       "<div>\n",
       "<style scoped>\n",
       "    .dataframe tbody tr th:only-of-type {\n",
       "        vertical-align: middle;\n",
       "    }\n",
       "\n",
       "    .dataframe tbody tr th {\n",
       "        vertical-align: top;\n",
       "    }\n",
       "\n",
       "    .dataframe thead th {\n",
       "        text-align: right;\n",
       "    }\n",
       "</style>\n",
       "<table border=\"1\" class=\"dataframe\">\n",
       "  <thead>\n",
       "    <tr style=\"text-align: right;\">\n",
       "      <th></th>\n",
       "      <th>density</th>\n",
       "      <th>mass</th>\n",
       "      <th>rotation_period</th>\n",
       "      <th>diameter</th>\n",
       "    </tr>\n",
       "  </thead>\n",
       "  <tbody>\n",
       "    <tr>\n",
       "      <th>Mercury</th>\n",
       "      <td>4933.216530</td>\n",
       "      <td>3.000000e+23</td>\n",
       "      <td>1407.6</td>\n",
       "      <td>4879000.0</td>\n",
       "    </tr>\n",
       "    <tr>\n",
       "      <th>Venus</th>\n",
       "      <td>5244.977070</td>\n",
       "      <td>4.870000e+24</td>\n",
       "      <td>NaN</td>\n",
       "      <td>12104000.0</td>\n",
       "    </tr>\n",
       "    <tr>\n",
       "      <th>Earth</th>\n",
       "      <td>5493.285577</td>\n",
       "      <td>5.970000e+24</td>\n",
       "      <td>23.9</td>\n",
       "      <td>12756000.0</td>\n",
       "    </tr>\n",
       "    <tr>\n",
       "      <th>Mars</th>\n",
       "      <td>3.000000</td>\n",
       "      <td>0.000000e+00</td>\n",
       "      <td>2.0</td>\n",
       "      <td>1.0</td>\n",
       "    </tr>\n",
       "  </tbody>\n",
       "</table>\n",
       "</div>"
      ],
      "text/plain": [
       "             density          mass  rotation_period    diameter\n",
       "Mercury  4933.216530  3.000000e+23           1407.6   4879000.0\n",
       "Venus    5244.977070  4.870000e+24              NaN  12104000.0\n",
       "Earth    5493.285577  5.970000e+24             23.9  12756000.0\n",
       "Mars        3.000000  0.000000e+00              2.0         1.0"
      ]
     },
     "execution_count": 60,
     "metadata": {},
     "output_type": "execute_result"
    }
   ],
   "source": [
    "new_df = df[['density','mass','rotation_period','diameter']]\n",
    "new_df"
   ]
  },
  {
   "cell_type": "code",
   "execution_count": 61,
   "id": "37b62da5-83a3-4fa2-bd53-65f19b96b261",
   "metadata": {},
   "outputs": [
    {
     "data": {
      "text/html": [
       "<div>\n",
       "<style scoped>\n",
       "    .dataframe tbody tr th:only-of-type {\n",
       "        vertical-align: middle;\n",
       "    }\n",
       "\n",
       "    .dataframe tbody tr th {\n",
       "        vertical-align: top;\n",
       "    }\n",
       "\n",
       "    .dataframe thead th {\n",
       "        text-align: right;\n",
       "    }\n",
       "</style>\n",
       "<table border=\"1\" class=\"dataframe\">\n",
       "  <thead>\n",
       "    <tr style=\"text-align: right;\">\n",
       "      <th></th>\n",
       "      <th>mass</th>\n",
       "      <th>diameter</th>\n",
       "      <th>rotation_period</th>\n",
       "      <th>density</th>\n",
       "    </tr>\n",
       "  </thead>\n",
       "  <tbody>\n",
       "    <tr>\n",
       "      <th>Mars</th>\n",
       "      <td>0.000000e+00</td>\n",
       "      <td>1.0</td>\n",
       "      <td>2.0</td>\n",
       "      <td>3.000000</td>\n",
       "    </tr>\n",
       "    <tr>\n",
       "      <th>Earth</th>\n",
       "      <td>5.970000e+24</td>\n",
       "      <td>12756000.0</td>\n",
       "      <td>23.9</td>\n",
       "      <td>5493.285577</td>\n",
       "    </tr>\n",
       "    <tr>\n",
       "      <th>Venus</th>\n",
       "      <td>4.870000e+24</td>\n",
       "      <td>12104000.0</td>\n",
       "      <td>NaN</td>\n",
       "      <td>5244.977070</td>\n",
       "    </tr>\n",
       "    <tr>\n",
       "      <th>Mercury</th>\n",
       "      <td>3.000000e+23</td>\n",
       "      <td>4879000.0</td>\n",
       "      <td>1407.6</td>\n",
       "      <td>4933.216530</td>\n",
       "    </tr>\n",
       "  </tbody>\n",
       "</table>\n",
       "</div>"
      ],
      "text/plain": [
       "                 mass    diameter  rotation_period      density\n",
       "Mars     0.000000e+00         1.0              2.0     3.000000\n",
       "Earth    5.970000e+24  12756000.0             23.9  5493.285577\n",
       "Venus    4.870000e+24  12104000.0              NaN  5244.977070\n",
       "Mercury  3.000000e+23   4879000.0           1407.6  4933.216530"
      ]
     },
     "execution_count": 61,
     "metadata": {},
     "output_type": "execute_result"
    }
   ],
   "source": [
    "newer_df = df.reindex(['Mars','Earth','Venus','Mercury'])\n",
    "newer_df"
   ]
  },
  {
   "cell_type": "code",
   "execution_count": 62,
   "id": "2662cb9f-6bcb-460d-bde9-648e79b3f47f",
   "metadata": {},
   "outputs": [
    {
     "data": {
      "text/html": [
       "<div>\n",
       "<style scoped>\n",
       "    .dataframe tbody tr th:only-of-type {\n",
       "        vertical-align: middle;\n",
       "    }\n",
       "\n",
       "    .dataframe tbody tr th {\n",
       "        vertical-align: top;\n",
       "    }\n",
       "\n",
       "    .dataframe thead th {\n",
       "        text-align: right;\n",
       "    }\n",
       "</style>\n",
       "<table border=\"1\" class=\"dataframe\">\n",
       "  <thead>\n",
       "    <tr style=\"text-align: right;\">\n",
       "      <th></th>\n",
       "      <th>mass</th>\n",
       "      <th>diameter</th>\n",
       "      <th>rotation_period</th>\n",
       "      <th>density</th>\n",
       "    </tr>\n",
       "  </thead>\n",
       "  <tbody>\n",
       "    <tr>\n",
       "      <th>Mercury</th>\n",
       "      <td>3.000000e+23</td>\n",
       "      <td>4879000.0</td>\n",
       "      <td>1407.6</td>\n",
       "      <td>4933.216530</td>\n",
       "    </tr>\n",
       "    <tr>\n",
       "      <th>Venus</th>\n",
       "      <td>4.870000e+24</td>\n",
       "      <td>12104001.0</td>\n",
       "      <td>NaN</td>\n",
       "      <td>5244.977070</td>\n",
       "    </tr>\n",
       "    <tr>\n",
       "      <th>Earth</th>\n",
       "      <td>5.970000e+24</td>\n",
       "      <td>12756000.0</td>\n",
       "      <td>23.9</td>\n",
       "      <td>5493.285577</td>\n",
       "    </tr>\n",
       "    <tr>\n",
       "      <th>Mars</th>\n",
       "      <td>0.000000e+00</td>\n",
       "      <td>1.0</td>\n",
       "      <td>2.0</td>\n",
       "      <td>3.000000</td>\n",
       "    </tr>\n",
       "  </tbody>\n",
       "</table>\n",
       "</div>"
      ],
      "text/plain": [
       "                 mass    diameter  rotation_period      density\n",
       "Mercury  3.000000e+23   4879000.0           1407.6  4933.216530\n",
       "Venus    4.870000e+24  12104001.0              NaN  5244.977070\n",
       "Earth    5.970000e+24  12756000.0             23.9  5493.285577\n",
       "Mars     0.000000e+00         1.0              2.0     3.000000"
      ]
     },
     "execution_count": 62,
     "metadata": {},
     "output_type": "execute_result"
    }
   ],
   "source": [
    "df.loc['Venus','diameter'] += 1\n",
    "df"
   ]
  },
  {
   "cell_type": "code",
   "execution_count": 63,
   "id": "06cb1791-127a-4627-929c-e7e46198dd8c",
   "metadata": {},
   "outputs": [],
   "source": [
    "## Plot\n"
   ]
  },
  {
   "cell_type": "code",
   "execution_count": 65,
   "id": "70314ca7-2d53-4c1c-95eb-0efaac67b44f",
   "metadata": {},
   "outputs": [
    {
     "data": {
      "text/plain": [
       "<Axes: xlabel='mass', ylabel='diameter'>"
      ]
     },
     "execution_count": 65,
     "metadata": {},
     "output_type": "execute_result"
    },
    {
     "data": {
      "image/png": "[encoded data removed]",
      "text/plain": [
       "<Figure size 640x480 with 1 Axes>"
      ]
     },
     "metadata": {},
     "output_type": "display_data"
    }
   ],
   "source": [
    "df.plot(kind='scatter', x='mass', y = 'diameter', grid=True)"
   ]
  },
  {
   "cell_type": "code",
   "execution_count": 66,
   "id": "9eab4e07-56f1-40e6-a492-8debf6c701fc",
   "metadata": {},
   "outputs": [
    {
     "data": {
      "text/plain": [
       "<Axes: >"
      ]
     },
     "execution_count": 66,
     "metadata": {},
     "output_type": "execute_result"
    },
    {
     "data": {
      "image/png": "[encoded data removed]",
      "text/plain": [
       "<Figure size 640x480 with 1 Axes>"
      ]
     },
     "metadata": {},
     "output_type": "display_data"
    }
   ],
   "source": [
    "df.plot(kind='bar')"
   ]
  },
  {
   "cell_type": "code",
   "execution_count": 67,
   "id": "8231317e-9a74-40b1-a851-4d8d90cbf073",
   "metadata": {},
   "outputs": [
    {
     "data": {
      "text/plain": [
       "<Axes: >"
      ]
     },
     "execution_count": 67,
     "metadata": {},
     "output_type": "execute_result"
    },
    {
     "data": {
      "image/png": "[encoded data removed]",
      "text/plain": [
       "<Figure size 640x480 with 1 Axes>"
      ]
     },
     "metadata": {},
     "output_type": "display_data"
    }
   ],
   "source": [
    "df.plot(kind='bar', y ='mass')"
   ]
  },
  {
   "cell_type": "code",
   "execution_count": 68,
   "id": "5c1c5e83-2b8f-4d43-b5b5-daf29f1c38a2",
   "metadata": {},
   "outputs": [],
   "source": [
    "# Reading data files\n",
    "\n"
   ]
  },
  {
   "cell_type": "code",
   "execution_count": 71,
   "id": "88b2dc0b-dea6-4e97-8e62-ba5904c77b58",
   "metadata": {},
   "outputs": [
    {
     "data": {
      "text/html": [
       "<div>\n",
       "<style scoped>\n",
       "    .dataframe tbody tr th:only-of-type {\n",
       "        vertical-align: middle;\n",
       "    }\n",
       "\n",
       "    .dataframe tbody tr th {\n",
       "        vertical-align: top;\n",
       "    }\n",
       "\n",
       "    .dataframe thead th {\n",
       "        text-align: right;\n",
       "    }\n",
       "</style>\n",
       "<table border=\"1\" class=\"dataframe\">\n",
       "  <thead>\n",
       "    <tr style=\"text-align: right;\">\n",
       "      <th></th>\n",
       "      <th>Site</th>\n",
       "      <th>Parameter</th>\n",
       "      <th>Date (LT)</th>\n",
       "      <th>Year</th>\n",
       "      <th>Month</th>\n",
       "      <th>Day</th>\n",
       "      <th>Hour</th>\n",
       "      <th>NowCast Conc.</th>\n",
       "      <th>AQI</th>\n",
       "      <th>AQI Category</th>\n",
       "      <th>Raw Conc.</th>\n",
       "      <th>Conc. Unit</th>\n",
       "      <th>Duration</th>\n",
       "      <th>QC Name</th>\n",
       "    </tr>\n",
       "  </thead>\n",
       "  <tbody>\n",
       "    <tr>\n",
       "      <th>0</th>\n",
       "      <td>Accra</td>\n",
       "      <td>PM2.5 - Principal</td>\n",
       "      <td>2020-01-27 04:00 PM</td>\n",
       "      <td>2020</td>\n",
       "      <td>1</td>\n",
       "      <td>27</td>\n",
       "      <td>16</td>\n",
       "      <td>-999.0</td>\n",
       "      <td>-999</td>\n",
       "      <td>NaN</td>\n",
       "      <td>-5.0</td>\n",
       "      <td>UG/M3</td>\n",
       "      <td>1 Hr</td>\n",
       "      <td>Invalid</td>\n",
       "    </tr>\n",
       "    <tr>\n",
       "      <th>1</th>\n",
       "      <td>Accra</td>\n",
       "      <td>PM2.5 - Principal</td>\n",
       "      <td>2020-01-27 06:00 PM</td>\n",
       "      <td>2020</td>\n",
       "      <td>1</td>\n",
       "      <td>27</td>\n",
       "      <td>18</td>\n",
       "      <td>-999.0</td>\n",
       "      <td>-999</td>\n",
       "      <td>NaN</td>\n",
       "      <td>-12.0</td>\n",
       "      <td>UG/M3</td>\n",
       "      <td>1 Hr</td>\n",
       "      <td>Invalid</td>\n",
       "    </tr>\n",
       "    <tr>\n",
       "      <th>2</th>\n",
       "      <td>Accra</td>\n",
       "      <td>PM2.5 - Principal</td>\n",
       "      <td>2020-01-27 07:00 PM</td>\n",
       "      <td>2020</td>\n",
       "      <td>1</td>\n",
       "      <td>27</td>\n",
       "      <td>19</td>\n",
       "      <td>-999.0</td>\n",
       "      <td>-999</td>\n",
       "      <td>NaN</td>\n",
       "      <td>-7.0</td>\n",
       "      <td>UG/M3</td>\n",
       "      <td>1 Hr</td>\n",
       "      <td>Invalid</td>\n",
       "    </tr>\n",
       "    <tr>\n",
       "      <th>3</th>\n",
       "      <td>Accra</td>\n",
       "      <td>PM2.5 - Principal</td>\n",
       "      <td>2020-01-27 08:00 PM</td>\n",
       "      <td>2020</td>\n",
       "      <td>1</td>\n",
       "      <td>27</td>\n",
       "      <td>20</td>\n",
       "      <td>-999.0</td>\n",
       "      <td>-999</td>\n",
       "      <td>NaN</td>\n",
       "      <td>-4.0</td>\n",
       "      <td>UG/M3</td>\n",
       "      <td>1 Hr</td>\n",
       "      <td>Invalid</td>\n",
       "    </tr>\n",
       "    <tr>\n",
       "      <th>4</th>\n",
       "      <td>Accra</td>\n",
       "      <td>PM2.5 - Principal</td>\n",
       "      <td>2020-01-27 09:00 PM</td>\n",
       "      <td>2020</td>\n",
       "      <td>1</td>\n",
       "      <td>27</td>\n",
       "      <td>21</td>\n",
       "      <td>-999.0</td>\n",
       "      <td>-999</td>\n",
       "      <td>NaN</td>\n",
       "      <td>-7.0</td>\n",
       "      <td>UG/M3</td>\n",
       "      <td>1 Hr</td>\n",
       "      <td>Invalid</td>\n",
       "    </tr>\n",
       "    <tr>\n",
       "      <th>...</th>\n",
       "      <td>...</td>\n",
       "      <td>...</td>\n",
       "      <td>...</td>\n",
       "      <td>...</td>\n",
       "      <td>...</td>\n",
       "      <td>...</td>\n",
       "      <td>...</td>\n",
       "      <td>...</td>\n",
       "      <td>...</td>\n",
       "      <td>...</td>\n",
       "      <td>...</td>\n",
       "      <td>...</td>\n",
       "      <td>...</td>\n",
       "      <td>...</td>\n",
       "    </tr>\n",
       "    <tr>\n",
       "      <th>8042</th>\n",
       "      <td>Accra</td>\n",
       "      <td>PM2.5 - Principal</td>\n",
       "      <td>2020-12-31 08:00 PM</td>\n",
       "      <td>2020</td>\n",
       "      <td>12</td>\n",
       "      <td>31</td>\n",
       "      <td>20</td>\n",
       "      <td>49.1</td>\n",
       "      <td>134</td>\n",
       "      <td>Unhealthy for Sensitive Groups</td>\n",
       "      <td>53.0</td>\n",
       "      <td>UG/M3</td>\n",
       "      <td>1 Hr</td>\n",
       "      <td>Valid</td>\n",
       "    </tr>\n",
       "    <tr>\n",
       "      <th>8043</th>\n",
       "      <td>Accra</td>\n",
       "      <td>PM2.5 - Principal</td>\n",
       "      <td>2020-12-31 09:00 PM</td>\n",
       "      <td>2020</td>\n",
       "      <td>12</td>\n",
       "      <td>31</td>\n",
       "      <td>21</td>\n",
       "      <td>49.3</td>\n",
       "      <td>135</td>\n",
       "      <td>Unhealthy for Sensitive Groups</td>\n",
       "      <td>51.0</td>\n",
       "      <td>UG/M3</td>\n",
       "      <td>1 Hr</td>\n",
       "      <td>Valid</td>\n",
       "    </tr>\n",
       "    <tr>\n",
       "      <th>8044</th>\n",
       "      <td>Accra</td>\n",
       "      <td>PM2.5 - Principal</td>\n",
       "      <td>2020-12-31 10:00 PM</td>\n",
       "      <td>2020</td>\n",
       "      <td>12</td>\n",
       "      <td>31</td>\n",
       "      <td>22</td>\n",
       "      <td>49.2</td>\n",
       "      <td>135</td>\n",
       "      <td>Unhealthy for Sensitive Groups</td>\n",
       "      <td>49.0</td>\n",
       "      <td>UG/M3</td>\n",
       "      <td>1 Hr</td>\n",
       "      <td>Valid</td>\n",
       "    </tr>\n",
       "    <tr>\n",
       "      <th>8045</th>\n",
       "      <td>Accra</td>\n",
       "      <td>PM2.5 - Principal</td>\n",
       "      <td>2020-12-31 11:00 PM</td>\n",
       "      <td>2020</td>\n",
       "      <td>12</td>\n",
       "      <td>31</td>\n",
       "      <td>23</td>\n",
       "      <td>50.2</td>\n",
       "      <td>137</td>\n",
       "      <td>Unhealthy for Sensitive Groups</td>\n",
       "      <td>54.0</td>\n",
       "      <td>UG/M3</td>\n",
       "      <td>1 Hr</td>\n",
       "      <td>Valid</td>\n",
       "    </tr>\n",
       "    <tr>\n",
       "      <th>8046</th>\n",
       "      <td>Accra</td>\n",
       "      <td>PM2.5 - Principal</td>\n",
       "      <td>2021-01-01 12:00 AM</td>\n",
       "      <td>2021</td>\n",
       "      <td>1</td>\n",
       "      <td>1</td>\n",
       "      <td>0</td>\n",
       "      <td>50.3</td>\n",
       "      <td>137</td>\n",
       "      <td>Unhealthy for Sensitive Groups</td>\n",
       "      <td>51.0</td>\n",
       "      <td>UG/M3</td>\n",
       "      <td>1 Hr</td>\n",
       "      <td>Valid</td>\n",
       "    </tr>\n",
       "  </tbody>\n",
       "</table>\n",
       "<p>8047 rows × 14 columns</p>\n",
       "</div>"
      ],
      "text/plain": [
       "       Site          Parameter            Date (LT)  Year  Month  Day  Hour  \\\n",
       "0     Accra  PM2.5 - Principal  2020-01-27 04:00 PM  2020      1   27    16   \n",
       "1     Accra  PM2.5 - Principal  2020-01-27 06:00 PM  2020      1   27    18   \n",
       "2     Accra  PM2.5 - Principal  2020-01-27 07:00 PM  2020      1   27    19   \n",
       "3     Accra  PM2.5 - Principal  2020-01-27 08:00 PM  2020      1   27    20   \n",
       "4     Accra  PM2.5 - Principal  2020-01-27 09:00 PM  2020      1   27    21   \n",
       "...     ...                ...                  ...   ...    ...  ...   ...   \n",
       "8042  Accra  PM2.5 - Principal  2020-12-31 08:00 PM  2020     12   31    20   \n",
       "8043  Accra  PM2.5 - Principal  2020-12-31 09:00 PM  2020     12   31    21   \n",
       "8044  Accra  PM2.5 - Principal  2020-12-31 10:00 PM  2020     12   31    22   \n",
       "8045  Accra  PM2.5 - Principal  2020-12-31 11:00 PM  2020     12   31    23   \n",
       "8046  Accra  PM2.5 - Principal  2021-01-01 12:00 AM  2021      1    1     0   \n",
       "\n",
       "      NowCast Conc.  AQI                    AQI Category  Raw Conc.  \\\n",
       "0            -999.0 -999                             NaN       -5.0   \n",
       "1            -999.0 -999                             NaN      -12.0   \n",
       "2            -999.0 -999                             NaN       -7.0   \n",
       "3            -999.0 -999                             NaN       -4.0   \n",
       "4            -999.0 -999                             NaN       -7.0   \n",
       "...             ...  ...                             ...        ...   \n",
       "8042           49.1  134  Unhealthy for Sensitive Groups       53.0   \n",
       "8043           49.3  135  Unhealthy for Sensitive Groups       51.0   \n",
       "8044           49.2  135  Unhealthy for Sensitive Groups       49.0   \n",
       "8045           50.2  137  Unhealthy for Sensitive Groups       54.0   \n",
       "8046           50.3  137  Unhealthy for Sensitive Groups       51.0   \n",
       "\n",
       "     Conc. Unit Duration  QC Name  \n",
       "0         UG/M3     1 Hr  Invalid  \n",
       "1         UG/M3     1 Hr  Invalid  \n",
       "2         UG/M3     1 Hr  Invalid  \n",
       "3         UG/M3     1 Hr  Invalid  \n",
       "4         UG/M3     1 Hr  Invalid  \n",
       "...         ...      ...      ...  \n",
       "8042      UG/M3     1 Hr    Valid  \n",
       "8043      UG/M3     1 Hr    Valid  \n",
       "8044      UG/M3     1 Hr    Valid  \n",
       "8045      UG/M3     1 Hr    Valid  \n",
       "8046      UG/M3     1 Hr    Valid  \n",
       "\n",
       "[8047 rows x 14 columns]"
      ]
     },
     "execution_count": 71,
     "metadata": {},
     "output_type": "execute_result"
    }
   ],
   "source": [
    "# from url\n",
    "url = \"https://www.ldeo.columbia.edu/~danielmw/Accra_PM2.5_2020_YTD.csv\"\n",
    "mydf = pd.read_csv(url)\n",
    "mydf"
   ]
  },
  {
   "cell_type": "code",
   "execution_count": 72,
   "id": "5ad566f8-e405-4de1-ab51-37708fcf9a0c",
   "metadata": {},
   "outputs": [
    {
     "data": {
      "text/html": [
       "<div>\n",
       "<style scoped>\n",
       "    .dataframe tbody tr th:only-of-type {\n",
       "        vertical-align: middle;\n",
       "    }\n",
       "\n",
       "    .dataframe tbody tr th {\n",
       "        vertical-align: top;\n",
       "    }\n",
       "\n",
       "    .dataframe thead th {\n",
       "        text-align: right;\n",
       "    }\n",
       "</style>\n",
       "<table border=\"1\" class=\"dataframe\">\n",
       "  <thead>\n",
       "    <tr style=\"text-align: right;\">\n",
       "      <th></th>\n",
       "      <th>Site</th>\n",
       "      <th>Parameter</th>\n",
       "      <th>Year</th>\n",
       "      <th>Month</th>\n",
       "      <th>Day</th>\n",
       "      <th>Hour</th>\n",
       "      <th>NowCast Conc.</th>\n",
       "      <th>AQI</th>\n",
       "      <th>AQI Category</th>\n",
       "      <th>Raw Conc.</th>\n",
       "      <th>Conc. Unit</th>\n",
       "      <th>Duration</th>\n",
       "      <th>QC Name</th>\n",
       "    </tr>\n",
       "    <tr>\n",
       "      <th>Date (LT)</th>\n",
       "      <th></th>\n",
       "      <th></th>\n",
       "      <th></th>\n",
       "      <th></th>\n",
       "      <th></th>\n",
       "      <th></th>\n",
       "      <th></th>\n",
       "      <th></th>\n",
       "      <th></th>\n",
       "      <th></th>\n",
       "      <th></th>\n",
       "      <th></th>\n",
       "      <th></th>\n",
       "    </tr>\n",
       "  </thead>\n",
       "  <tbody>\n",
       "    <tr>\n",
       "      <th>2020-01-27 04:00 PM</th>\n",
       "      <td>Accra</td>\n",
       "      <td>PM2.5 - Principal</td>\n",
       "      <td>2020</td>\n",
       "      <td>1</td>\n",
       "      <td>27</td>\n",
       "      <td>16</td>\n",
       "      <td>-999.0</td>\n",
       "      <td>-999</td>\n",
       "      <td>NaN</td>\n",
       "      <td>-5.0</td>\n",
       "      <td>UG/M3</td>\n",
       "      <td>1 Hr</td>\n",
       "      <td>Invalid</td>\n",
       "    </tr>\n",
       "    <tr>\n",
       "      <th>2020-01-27 06:00 PM</th>\n",
       "      <td>Accra</td>\n",
       "      <td>PM2.5 - Principal</td>\n",
       "      <td>2020</td>\n",
       "      <td>1</td>\n",
       "      <td>27</td>\n",
       "      <td>18</td>\n",
       "      <td>-999.0</td>\n",
       "      <td>-999</td>\n",
       "      <td>NaN</td>\n",
       "      <td>-12.0</td>\n",
       "      <td>UG/M3</td>\n",
       "      <td>1 Hr</td>\n",
       "      <td>Invalid</td>\n",
       "    </tr>\n",
       "    <tr>\n",
       "      <th>2020-01-27 07:00 PM</th>\n",
       "      <td>Accra</td>\n",
       "      <td>PM2.5 - Principal</td>\n",
       "      <td>2020</td>\n",
       "      <td>1</td>\n",
       "      <td>27</td>\n",
       "      <td>19</td>\n",
       "      <td>-999.0</td>\n",
       "      <td>-999</td>\n",
       "      <td>NaN</td>\n",
       "      <td>-7.0</td>\n",
       "      <td>UG/M3</td>\n",
       "      <td>1 Hr</td>\n",
       "      <td>Invalid</td>\n",
       "    </tr>\n",
       "    <tr>\n",
       "      <th>2020-01-27 08:00 PM</th>\n",
       "      <td>Accra</td>\n",
       "      <td>PM2.5 - Principal</td>\n",
       "      <td>2020</td>\n",
       "      <td>1</td>\n",
       "      <td>27</td>\n",
       "      <td>20</td>\n",
       "      <td>-999.0</td>\n",
       "      <td>-999</td>\n",
       "      <td>NaN</td>\n",
       "      <td>-4.0</td>\n",
       "      <td>UG/M3</td>\n",
       "      <td>1 Hr</td>\n",
       "      <td>Invalid</td>\n",
       "    </tr>\n",
       "    <tr>\n",
       "      <th>2020-01-27 09:00 PM</th>\n",
       "      <td>Accra</td>\n",
       "      <td>PM2.5 - Principal</td>\n",
       "      <td>2020</td>\n",
       "      <td>1</td>\n",
       "      <td>27</td>\n",
       "      <td>21</td>\n",
       "      <td>-999.0</td>\n",
       "      <td>-999</td>\n",
       "      <td>NaN</td>\n",
       "      <td>-7.0</td>\n",
       "      <td>UG/M3</td>\n",
       "      <td>1 Hr</td>\n",
       "      <td>Invalid</td>\n",
       "    </tr>\n",
       "    <tr>\n",
       "      <th>...</th>\n",
       "      <td>...</td>\n",
       "      <td>...</td>\n",
       "      <td>...</td>\n",
       "      <td>...</td>\n",
       "      <td>...</td>\n",
       "      <td>...</td>\n",
       "      <td>...</td>\n",
       "      <td>...</td>\n",
       "      <td>...</td>\n",
       "      <td>...</td>\n",
       "      <td>...</td>\n",
       "      <td>...</td>\n",
       "      <td>...</td>\n",
       "    </tr>\n",
       "    <tr>\n",
       "      <th>2020-12-31 08:00 PM</th>\n",
       "      <td>Accra</td>\n",
       "      <td>PM2.5 - Principal</td>\n",
       "      <td>2020</td>\n",
       "      <td>12</td>\n",
       "      <td>31</td>\n",
       "      <td>20</td>\n",
       "      <td>49.1</td>\n",
       "      <td>134</td>\n",
       "      <td>Unhealthy for Sensitive Groups</td>\n",
       "      <td>53.0</td>\n",
       "      <td>UG/M3</td>\n",
       "      <td>1 Hr</td>\n",
       "      <td>Valid</td>\n",
       "    </tr>\n",
       "    <tr>\n",
       "      <th>2020-12-31 09:00 PM</th>\n",
       "      <td>Accra</td>\n",
       "      <td>PM2.5 - Principal</td>\n",
       "      <td>2020</td>\n",
       "      <td>12</td>\n",
       "      <td>31</td>\n",
       "      <td>21</td>\n",
       "      <td>49.3</td>\n",
       "      <td>135</td>\n",
       "      <td>Unhealthy for Sensitive Groups</td>\n",
       "      <td>51.0</td>\n",
       "      <td>UG/M3</td>\n",
       "      <td>1 Hr</td>\n",
       "      <td>Valid</td>\n",
       "    </tr>\n",
       "    <tr>\n",
       "      <th>2020-12-31 10:00 PM</th>\n",
       "      <td>Accra</td>\n",
       "      <td>PM2.5 - Principal</td>\n",
       "      <td>2020</td>\n",
       "      <td>12</td>\n",
       "      <td>31</td>\n",
       "      <td>22</td>\n",
       "      <td>49.2</td>\n",
       "      <td>135</td>\n",
       "      <td>Unhealthy for Sensitive Groups</td>\n",
       "      <td>49.0</td>\n",
       "      <td>UG/M3</td>\n",
       "      <td>1 Hr</td>\n",
       "      <td>Valid</td>\n",
       "    </tr>\n",
       "    <tr>\n",
       "      <th>2020-12-31 11:00 PM</th>\n",
       "      <td>Accra</td>\n",
       "      <td>PM2.5 - Principal</td>\n",
       "      <td>2020</td>\n",
       "      <td>12</td>\n",
       "      <td>31</td>\n",
       "      <td>23</td>\n",
       "      <td>50.2</td>\n",
       "      <td>137</td>\n",
       "      <td>Unhealthy for Sensitive Groups</td>\n",
       "      <td>54.0</td>\n",
       "      <td>UG/M3</td>\n",
       "      <td>1 Hr</td>\n",
       "      <td>Valid</td>\n",
       "    </tr>\n",
       "    <tr>\n",
       "      <th>2021-01-01 12:00 AM</th>\n",
       "      <td>Accra</td>\n",
       "      <td>PM2.5 - Principal</td>\n",
       "      <td>2021</td>\n",
       "      <td>1</td>\n",
       "      <td>1</td>\n",
       "      <td>0</td>\n",
       "      <td>50.3</td>\n",
       "      <td>137</td>\n",
       "      <td>Unhealthy for Sensitive Groups</td>\n",
       "      <td>51.0</td>\n",
       "      <td>UG/M3</td>\n",
       "      <td>1 Hr</td>\n",
       "      <td>Valid</td>\n",
       "    </tr>\n",
       "  </tbody>\n",
       "</table>\n",
       "<p>8047 rows × 13 columns</p>\n",
       "</div>"
      ],
      "text/plain": [
       "                      Site          Parameter  Year  Month  Day  Hour  \\\n",
       "Date (LT)                                                               \n",
       "2020-01-27 04:00 PM  Accra  PM2.5 - Principal  2020      1   27    16   \n",
       "2020-01-27 06:00 PM  Accra  PM2.5 - Principal  2020      1   27    18   \n",
       "2020-01-27 07:00 PM  Accra  PM2.5 - Principal  2020      1   27    19   \n",
       "2020-01-27 08:00 PM  Accra  PM2.5 - Principal  2020      1   27    20   \n",
       "2020-01-27 09:00 PM  Accra  PM2.5 - Principal  2020      1   27    21   \n",
       "...                    ...                ...   ...    ...  ...   ...   \n",
       "2020-12-31 08:00 PM  Accra  PM2.5 - Principal  2020     12   31    20   \n",
       "2020-12-31 09:00 PM  Accra  PM2.5 - Principal  2020     12   31    21   \n",
       "2020-12-31 10:00 PM  Accra  PM2.5 - Principal  2020     12   31    22   \n",
       "2020-12-31 11:00 PM  Accra  PM2.5 - Principal  2020     12   31    23   \n",
       "2021-01-01 12:00 AM  Accra  PM2.5 - Principal  2021      1    1     0   \n",
       "\n",
       "                     NowCast Conc.  AQI                    AQI Category  \\\n",
       "Date (LT)                                                                 \n",
       "2020-01-27 04:00 PM         -999.0 -999                             NaN   \n",
       "2020-01-27 06:00 PM         -999.0 -999                             NaN   \n",
       "2020-01-27 07:00 PM         -999.0 -999                             NaN   \n",
       "2020-01-27 08:00 PM         -999.0 -999                             NaN   \n",
       "2020-01-27 09:00 PM         -999.0 -999                             NaN   \n",
       "...                            ...  ...                             ...   \n",
       "2020-12-31 08:00 PM           49.1  134  Unhealthy for Sensitive Groups   \n",
       "2020-12-31 09:00 PM           49.3  135  Unhealthy for Sensitive Groups   \n",
       "2020-12-31 10:00 PM           49.2  135  Unhealthy for Sensitive Groups   \n",
       "2020-12-31 11:00 PM           50.2  137  Unhealthy for Sensitive Groups   \n",
       "2021-01-01 12:00 AM           50.3  137  Unhealthy for Sensitive Groups   \n",
       "\n",
       "                     Raw Conc. Conc. Unit Duration  QC Name  \n",
       "Date (LT)                                                    \n",
       "2020-01-27 04:00 PM       -5.0      UG/M3     1 Hr  Invalid  \n",
       "2020-01-27 06:00 PM      -12.0      UG/M3     1 Hr  Invalid  \n",
       "2020-01-27 07:00 PM       -7.0      UG/M3     1 Hr  Invalid  \n",
       "2020-01-27 08:00 PM       -4.0      UG/M3     1 Hr  Invalid  \n",
       "2020-01-27 09:00 PM       -7.0      UG/M3     1 Hr  Invalid  \n",
       "...                        ...        ...      ...      ...  \n",
       "2020-12-31 08:00 PM       53.0      UG/M3     1 Hr    Valid  \n",
       "2020-12-31 09:00 PM       51.0      UG/M3     1 Hr    Valid  \n",
       "2020-12-31 10:00 PM       49.0      UG/M3     1 Hr    Valid  \n",
       "2020-12-31 11:00 PM       54.0      UG/M3     1 Hr    Valid  \n",
       "2021-01-01 12:00 AM       51.0      UG/M3     1 Hr    Valid  \n",
       "\n",
       "[8047 rows x 13 columns]"
      ]
     },
     "execution_count": 72,
     "metadata": {},
     "output_type": "execute_result"
    }
   ],
   "source": [
    "mydf.set_index('Date (LT)')"
   ]
  },
  {
   "cell_type": "code",
   "execution_count": 75,
   "id": "e4ebcac5-9854-4dca-8afc-40183a956ac7",
   "metadata": {},
   "outputs": [
    {
     "data": {
      "text/plain": [
       "<Axes: xlabel='Date (LT)'>"
      ]
     },
     "execution_count": 75,
     "metadata": {},
     "output_type": "execute_result"
    },
    {
     "data": {
      "image/png": "[encoded data removed]",
      "text/plain": [
       "<Figure size 640x480 with 1 Axes>"
      ]
     },
     "metadata": {},
     "output_type": "display_data"
    }
   ],
   "source": [
    "mydf.plot(x = 'Date (LT)', y = 'Raw Conc.')"
   ]
  },
  {
   "cell_type": "code",
   "execution_count": 73,
   "id": "60caadb9-2ef7-46d5-bd97-0c68e787c208",
   "metadata": {},
   "outputs": [],
   "source": [
    "mydfnan = mydf.replace(-999, np.nan)"
   ]
  },
  {
   "cell_type": "code",
   "execution_count": 76,
   "id": "a46ae850-f97d-454d-8cb1-db41aa1fff65",
   "metadata": {},
   "outputs": [
    {
     "data": {
      "text/plain": [
       "<Axes: xlabel='Date (LT)'>"
      ]
     },
     "execution_count": 76,
     "metadata": {},
     "output_type": "execute_result"
    },
    {
     "data": {
      "image/png": "[encoded data removed]",
      "text/plain": [
       "<Figure size 640x480 with 1 Axes>"
      ]
     },
     "metadata": {},
     "output_type": "display_data"
    }
   ],
   "source": [
    "mydfnan.plot(x = 'Date (LT)', y = 'Raw Conc.', rot=90)"
   ]
  },
  {
   "cell_type": "code",
   "execution_count": 83,
   "id": "9be963cd-7f04-41de-be62-f89e628b6307",
   "metadata": {},
   "outputs": [
    {
     "name": "stderr",
     "output_type": "stream",
     "text": [
      "/tmp/ipykernel_462128/2341101249.py:1: UserWarning: Could not infer format, so each element will be parsed individually, falling back to `dateutil`. To ensure parsing is consistent and as-expected, please specify a format.\n",
      "  mydfnan['Datetime']=pd.to_datetime(mydfnan['Date (LT)'])\n"
     ]
    },
    {
     "data": {
      "text/html": [
       "<div>\n",
       "<style scoped>\n",
       "    .dataframe tbody tr th:only-of-type {\n",
       "        vertical-align: middle;\n",
       "    }\n",
       "\n",
       "    .dataframe tbody tr th {\n",
       "        vertical-align: top;\n",
       "    }\n",
       "\n",
       "    .dataframe thead th {\n",
       "        text-align: right;\n",
       "    }\n",
       "</style>\n",
       "<table border=\"1\" class=\"dataframe\">\n",
       "  <thead>\n",
       "    <tr style=\"text-align: right;\">\n",
       "      <th></th>\n",
       "      <th>Site</th>\n",
       "      <th>Parameter</th>\n",
       "      <th>Date (LT)</th>\n",
       "      <th>Year</th>\n",
       "      <th>Month</th>\n",
       "      <th>Day</th>\n",
       "      <th>Hour</th>\n",
       "      <th>NowCast Conc.</th>\n",
       "      <th>AQI</th>\n",
       "      <th>AQI Category</th>\n",
       "      <th>Raw Conc.</th>\n",
       "      <th>Conc. Unit</th>\n",
       "      <th>Duration</th>\n",
       "      <th>QC Name</th>\n",
       "    </tr>\n",
       "    <tr>\n",
       "      <th>Datetime</th>\n",
       "      <th></th>\n",
       "      <th></th>\n",
       "      <th></th>\n",
       "      <th></th>\n",
       "      <th></th>\n",
       "      <th></th>\n",
       "      <th></th>\n",
       "      <th></th>\n",
       "      <th></th>\n",
       "      <th></th>\n",
       "      <th></th>\n",
       "      <th></th>\n",
       "      <th></th>\n",
       "      <th></th>\n",
       "    </tr>\n",
       "  </thead>\n",
       "  <tbody>\n",
       "    <tr>\n",
       "      <th>2020-01-27 16:00:00</th>\n",
       "      <td>Accra</td>\n",
       "      <td>PM2.5 - Principal</td>\n",
       "      <td>2020-01-27 04:00 PM</td>\n",
       "      <td>2020</td>\n",
       "      <td>1</td>\n",
       "      <td>27</td>\n",
       "      <td>16</td>\n",
       "      <td>NaN</td>\n",
       "      <td>NaN</td>\n",
       "      <td>NaN</td>\n",
       "      <td>-5.0</td>\n",
       "      <td>UG/M3</td>\n",
       "      <td>1 Hr</td>\n",
       "      <td>Invalid</td>\n",
       "    </tr>\n",
       "    <tr>\n",
       "      <th>2020-01-27 18:00:00</th>\n",
       "      <td>Accra</td>\n",
       "      <td>PM2.5 - Principal</td>\n",
       "      <td>2020-01-27 06:00 PM</td>\n",
       "      <td>2020</td>\n",
       "      <td>1</td>\n",
       "      <td>27</td>\n",
       "      <td>18</td>\n",
       "      <td>NaN</td>\n",
       "      <td>NaN</td>\n",
       "      <td>NaN</td>\n",
       "      <td>-12.0</td>\n",
       "      <td>UG/M3</td>\n",
       "      <td>1 Hr</td>\n",
       "      <td>Invalid</td>\n",
       "    </tr>\n",
       "    <tr>\n",
       "      <th>2020-01-27 19:00:00</th>\n",
       "      <td>Accra</td>\n",
       "      <td>PM2.5 - Principal</td>\n",
       "      <td>2020-01-27 07:00 PM</td>\n",
       "      <td>2020</td>\n",
       "      <td>1</td>\n",
       "      <td>27</td>\n",
       "      <td>19</td>\n",
       "      <td>NaN</td>\n",
       "      <td>NaN</td>\n",
       "      <td>NaN</td>\n",
       "      <td>-7.0</td>\n",
       "      <td>UG/M3</td>\n",
       "      <td>1 Hr</td>\n",
       "      <td>Invalid</td>\n",
       "    </tr>\n",
       "    <tr>\n",
       "      <th>2020-01-27 20:00:00</th>\n",
       "      <td>Accra</td>\n",
       "      <td>PM2.5 - Principal</td>\n",
       "      <td>2020-01-27 08:00 PM</td>\n",
       "      <td>2020</td>\n",
       "      <td>1</td>\n",
       "      <td>27</td>\n",
       "      <td>20</td>\n",
       "      <td>NaN</td>\n",
       "      <td>NaN</td>\n",
       "      <td>NaN</td>\n",
       "      <td>-4.0</td>\n",
       "      <td>UG/M3</td>\n",
       "      <td>1 Hr</td>\n",
       "      <td>Invalid</td>\n",
       "    </tr>\n",
       "    <tr>\n",
       "      <th>2020-01-27 21:00:00</th>\n",
       "      <td>Accra</td>\n",
       "      <td>PM2.5 - Principal</td>\n",
       "      <td>2020-01-27 09:00 PM</td>\n",
       "      <td>2020</td>\n",
       "      <td>1</td>\n",
       "      <td>27</td>\n",
       "      <td>21</td>\n",
       "      <td>NaN</td>\n",
       "      <td>NaN</td>\n",
       "      <td>NaN</td>\n",
       "      <td>-7.0</td>\n",
       "      <td>UG/M3</td>\n",
       "      <td>1 Hr</td>\n",
       "      <td>Invalid</td>\n",
       "    </tr>\n",
       "    <tr>\n",
       "      <th>...</th>\n",
       "      <td>...</td>\n",
       "      <td>...</td>\n",
       "      <td>...</td>\n",
       "      <td>...</td>\n",
       "      <td>...</td>\n",
       "      <td>...</td>\n",
       "      <td>...</td>\n",
       "      <td>...</td>\n",
       "      <td>...</td>\n",
       "      <td>...</td>\n",
       "      <td>...</td>\n",
       "      <td>...</td>\n",
       "      <td>...</td>\n",
       "      <td>...</td>\n",
       "    </tr>\n",
       "    <tr>\n",
       "      <th>2020-12-31 20:00:00</th>\n",
       "      <td>Accra</td>\n",
       "      <td>PM2.5 - Principal</td>\n",
       "      <td>2020-12-31 08:00 PM</td>\n",
       "      <td>2020</td>\n",
       "      <td>12</td>\n",
       "      <td>31</td>\n",
       "      <td>20</td>\n",
       "      <td>49.1</td>\n",
       "      <td>134.0</td>\n",
       "      <td>Unhealthy for Sensitive Groups</td>\n",
       "      <td>53.0</td>\n",
       "      <td>UG/M3</td>\n",
       "      <td>1 Hr</td>\n",
       "      <td>Valid</td>\n",
       "    </tr>\n",
       "    <tr>\n",
       "      <th>2020-12-31 21:00:00</th>\n",
       "      <td>Accra</td>\n",
       "      <td>PM2.5 - Principal</td>\n",
       "      <td>2020-12-31 09:00 PM</td>\n",
       "      <td>2020</td>\n",
       "      <td>12</td>\n",
       "      <td>31</td>\n",
       "      <td>21</td>\n",
       "      <td>49.3</td>\n",
       "      <td>135.0</td>\n",
       "      <td>Unhealthy for Sensitive Groups</td>\n",
       "      <td>51.0</td>\n",
       "      <td>UG/M3</td>\n",
       "      <td>1 Hr</td>\n",
       "      <td>Valid</td>\n",
       "    </tr>\n",
       "    <tr>\n",
       "      <th>2020-12-31 22:00:00</th>\n",
       "      <td>Accra</td>\n",
       "      <td>PM2.5 - Principal</td>\n",
       "      <td>2020-12-31 10:00 PM</td>\n",
       "      <td>2020</td>\n",
       "      <td>12</td>\n",
       "      <td>31</td>\n",
       "      <td>22</td>\n",
       "      <td>49.2</td>\n",
       "      <td>135.0</td>\n",
       "      <td>Unhealthy for Sensitive Groups</td>\n",
       "      <td>49.0</td>\n",
       "      <td>UG/M3</td>\n",
       "      <td>1 Hr</td>\n",
       "      <td>Valid</td>\n",
       "    </tr>\n",
       "    <tr>\n",
       "      <th>2020-12-31 23:00:00</th>\n",
       "      <td>Accra</td>\n",
       "      <td>PM2.5 - Principal</td>\n",
       "      <td>2020-12-31 11:00 PM</td>\n",
       "      <td>2020</td>\n",
       "      <td>12</td>\n",
       "      <td>31</td>\n",
       "      <td>23</td>\n",
       "      <td>50.2</td>\n",
       "      <td>137.0</td>\n",
       "      <td>Unhealthy for Sensitive Groups</td>\n",
       "      <td>54.0</td>\n",
       "      <td>UG/M3</td>\n",
       "      <td>1 Hr</td>\n",
       "      <td>Valid</td>\n",
       "    </tr>\n",
       "    <tr>\n",
       "      <th>2021-01-01 00:00:00</th>\n",
       "      <td>Accra</td>\n",
       "      <td>PM2.5 - Principal</td>\n",
       "      <td>2021-01-01 12:00 AM</td>\n",
       "      <td>2021</td>\n",
       "      <td>1</td>\n",
       "      <td>1</td>\n",
       "      <td>0</td>\n",
       "      <td>50.3</td>\n",
       "      <td>137.0</td>\n",
       "      <td>Unhealthy for Sensitive Groups</td>\n",
       "      <td>51.0</td>\n",
       "      <td>UG/M3</td>\n",
       "      <td>1 Hr</td>\n",
       "      <td>Valid</td>\n",
       "    </tr>\n",
       "  </tbody>\n",
       "</table>\n",
       "<p>8047 rows × 14 columns</p>\n",
       "</div>"
      ],
      "text/plain": [
       "                      Site          Parameter            Date (LT)  Year  \\\n",
       "Datetime                                                                   \n",
       "2020-01-27 16:00:00  Accra  PM2.5 - Principal  2020-01-27 04:00 PM  2020   \n",
       "2020-01-27 18:00:00  Accra  PM2.5 - Principal  2020-01-27 06:00 PM  2020   \n",
       "2020-01-27 19:00:00  Accra  PM2.5 - Principal  2020-01-27 07:00 PM  2020   \n",
       "2020-01-27 20:00:00  Accra  PM2.5 - Principal  2020-01-27 08:00 PM  2020   \n",
       "2020-01-27 21:00:00  Accra  PM2.5 - Principal  2020-01-27 09:00 PM  2020   \n",
       "...                    ...                ...                  ...   ...   \n",
       "2020-12-31 20:00:00  Accra  PM2.5 - Principal  2020-12-31 08:00 PM  2020   \n",
       "2020-12-31 21:00:00  Accra  PM2.5 - Principal  2020-12-31 09:00 PM  2020   \n",
       "2020-12-31 22:00:00  Accra  PM2.5 - Principal  2020-12-31 10:00 PM  2020   \n",
       "2020-12-31 23:00:00  Accra  PM2.5 - Principal  2020-12-31 11:00 PM  2020   \n",
       "2021-01-01 00:00:00  Accra  PM2.5 - Principal  2021-01-01 12:00 AM  2021   \n",
       "\n",
       "                     Month  Day  Hour  NowCast Conc.    AQI  \\\n",
       "Datetime                                                      \n",
       "2020-01-27 16:00:00      1   27    16            NaN    NaN   \n",
       "2020-01-27 18:00:00      1   27    18            NaN    NaN   \n",
       "2020-01-27 19:00:00      1   27    19            NaN    NaN   \n",
       "2020-01-27 20:00:00      1   27    20            NaN    NaN   \n",
       "2020-01-27 21:00:00      1   27    21            NaN    NaN   \n",
       "...                    ...  ...   ...            ...    ...   \n",
       "2020-12-31 20:00:00     12   31    20           49.1  134.0   \n",
       "2020-12-31 21:00:00     12   31    21           49.3  135.0   \n",
       "2020-12-31 22:00:00     12   31    22           49.2  135.0   \n",
       "2020-12-31 23:00:00     12   31    23           50.2  137.0   \n",
       "2021-01-01 00:00:00      1    1     0           50.3  137.0   \n",
       "\n",
       "                                       AQI Category  Raw Conc. Conc. Unit  \\\n",
       "Datetime                                                                    \n",
       "2020-01-27 16:00:00                             NaN       -5.0      UG/M3   \n",
       "2020-01-27 18:00:00                             NaN      -12.0      UG/M3   \n",
       "2020-01-27 19:00:00                             NaN       -7.0      UG/M3   \n",
       "2020-01-27 20:00:00                             NaN       -4.0      UG/M3   \n",
       "2020-01-27 21:00:00                             NaN       -7.0      UG/M3   \n",
       "...                                             ...        ...        ...   \n",
       "2020-12-31 20:00:00  Unhealthy for Sensitive Groups       53.0      UG/M3   \n",
       "2020-12-31 21:00:00  Unhealthy for Sensitive Groups       51.0      UG/M3   \n",
       "2020-12-31 22:00:00  Unhealthy for Sensitive Groups       49.0      UG/M3   \n",
       "2020-12-31 23:00:00  Unhealthy for Sensitive Groups       54.0      UG/M3   \n",
       "2021-01-01 00:00:00  Unhealthy for Sensitive Groups       51.0      UG/M3   \n",
       "\n",
       "                    Duration  QC Name  \n",
       "Datetime                               \n",
       "2020-01-27 16:00:00     1 Hr  Invalid  \n",
       "2020-01-27 18:00:00     1 Hr  Invalid  \n",
       "2020-01-27 19:00:00     1 Hr  Invalid  \n",
       "2020-01-27 20:00:00     1 Hr  Invalid  \n",
       "2020-01-27 21:00:00     1 Hr  Invalid  \n",
       "...                      ...      ...  \n",
       "2020-12-31 20:00:00     1 Hr    Valid  \n",
       "2020-12-31 21:00:00     1 Hr    Valid  \n",
       "2020-12-31 22:00:00     1 Hr    Valid  \n",
       "2020-12-31 23:00:00     1 Hr    Valid  \n",
       "2021-01-01 00:00:00     1 Hr    Valid  \n",
       "\n",
       "[8047 rows x 14 columns]"
      ]
     },
     "execution_count": 83,
     "metadata": {},
     "output_type": "execute_result"
    }
   ],
   "source": [
    "mydfnan['Datetime']=pd.to_datetime(mydfnan['Date (LT)'])\n",
    "newdf = mydfnan.set_index('Datetime')\n",
    "newdf"
   ]
  },
  {
   "cell_type": "code",
   "execution_count": 85,
   "id": "81d8dff8-f3c2-42a4-9ae6-1cd42be77af4",
   "metadata": {},
   "outputs": [
    {
     "data": {
      "text/plain": [
       "<Axes: xlabel='Datetime'>"
      ]
     },
     "execution_count": 85,
     "metadata": {},
     "output_type": "execute_result"
    },
    {
     "data": {
      "image/png": "[encoded data removed]",
      "text/plain": [
       "<Figure size 640x480 with 1 Axes>"
      ]
     },
     "metadata": {},
     "output_type": "display_data"
    }
   ],
   "source": [
    "newdf['Raw Conc.'].resample('MS').mean().plot() # MS: by month"
   ]
  },
  {
   "cell_type": "code",
   "execution_count": 78,
   "id": "dc81dc3f-680d-461f-b092-23f1e1752cfb",
   "metadata": {},
   "outputs": [
    {
     "data": {
      "text/plain": [
       "DatetimeIndex(['2014-01-01', '2014-01-02', '2014-01-03', '2014-01-04',\n",
       "               '2014-01-05', '2014-01-06', '2014-01-07', '2014-01-08',\n",
       "               '2014-01-09', '2014-01-10',\n",
       "               ...\n",
       "               '2015-12-22', '2015-12-23', '2015-12-24', '2015-12-25',\n",
       "               '2015-12-26', '2015-12-27', '2015-12-28', '2015-12-29',\n",
       "               '2015-12-30', '2015-12-31'],\n",
       "              dtype='datetime64[ns]', length=730, freq='D')"
      ]
     },
     "execution_count": 78,
     "metadata": {},
     "output_type": "execute_result"
    }
   ],
   "source": [
    "two_years = pd.date_range(start='2014-01-01', end = '2015-12-31', freq='D') # freq = 'D' means Day (every day)\n",
    "two_years"
   ]
  },
  {
   "cell_type": "code",
   "execution_count": 86,
   "id": "35ec6f71-2b0a-4f70-bb06-884af02f741e",
   "metadata": {},
   "outputs": [
    {
     "data": {
      "text/plain": [
       "<Axes: >"
      ]
     },
     "execution_count": 86,
     "metadata": {},
     "output_type": "execute_result"
    },
    {
     "data": {
      "image/png": "[encoded data removed]",
      "text/plain": [
       "<Figure size 640x480 with 1 Axes>"
      ]
     },
     "metadata": {},
     "output_type": "display_data"
    }
   ],
   "source": [
    "timeseries = pd.Series(np.sin(2*np.pi*two_years.dayofyear / 365), index = two_years)\n",
    "timeseries.plot()"
   ]
  },
  {
   "cell_type": "code",
   "execution_count": 81,
   "id": "b776138d-7705-451a-8055-a5531f73fa78",
   "metadata": {},
   "outputs": [
    {
     "data": {
      "text/plain": [
       "<Axes: >"
      ]
     },
     "execution_count": 81,
     "metadata": {},
     "output_type": "execute_result"
    },
    {
     "data": {
      "image/png": "[encoded data removed]",
      "text/plain": [
       "<Figure size 640x480 with 1 Axes>"
      ]
     },
     "metadata": {},
     "output_type": "display_data"
    }
   ],
   "source": [
    "timeseries.loc['2015-01-01':'2015-06-30'].plot()"
   ]
  },
  {
   "cell_type": "code",
   "execution_count": null,
   "id": "7a264fbc-8f6c-4c59-939a-79603b43c2a8",
   "metadata": {},
   "outputs": [],
   "source": []
  }
 ],
 "metadata": {
  "kernelspec": {
   "display_name": "pangeo23",
   "language": "python",
   "name": "pangeo23"
  },
  "language_info": {
   "codemirror_mode": {
    "name": "ipython",
    "version": 3
   },
   "file_extension": ".py",
   "mimetype": "text/x-python",
   "name": "python",
   "nbconvert_exporter": "python",
   "pygments_lexer": "ipython3",
   "version": "3.11.6"
  }
 },
 "nbformat": 4,
 "nbformat_minor": 5
}
