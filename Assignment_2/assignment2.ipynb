{
 "cells": [
  {
   "cell_type": "markdown",
   "id": "7304b968-eba7-45ef-bab8-b4de6f5768a7",
   "metadata": {},
   "source": [
    "# Bate - RC Assignment 2"
   ]
  },
  {
   "cell_type": "markdown",
   "id": "cc4cf088-05b8-478c-9192-a4e012d6bfac",
   "metadata": {},
   "source": [
    "## Part 1: Lists and Loops"
   ]
  },
  {
   "cell_type": "markdown",
   "id": "3528e07f-5465-4082-af96-7e9a75327c12",
   "metadata": {},
   "source": [
    "### 1) Create a list with the names of every planet in the solar system (in order)"
   ]
  },
  {
   "cell_type": "code",
   "execution_count": 107,
   "id": "a26054d1-c4d9-446c-a836-c474efdef5ad",
   "metadata": {},
   "outputs": [
    {
     "data": {
      "text/plain": [
       "['Mercury', 'Venus', 'Earth', 'Mars', 'Jupiter', 'Saturn', 'Uranus', 'Neptune']"
      ]
     },
     "execution_count": 107,
     "metadata": {},
     "output_type": "execute_result"
    }
   ],
   "source": [
    "l = ['Mercury','Venus','Earth','Mars','Jupiter','Saturn','Uranus','Neptune']\n",
    "l"
   ]
  },
  {
   "cell_type": "markdown",
   "id": "ecef8b71-2b55-49d0-a799-bb77856d2d41",
   "metadata": {},
   "source": [
    "### 2) Have Python tell you how many planets there are by examining your list"
   ]
  },
  {
   "cell_type": "code",
   "execution_count": 108,
   "id": "a37fd478-e8b6-4a4e-91b4-8e4792831a98",
   "metadata": {},
   "outputs": [
    {
     "data": {
      "text/plain": [
       "8"
      ]
     },
     "execution_count": 108,
     "metadata": {},
     "output_type": "execute_result"
    }
   ],
   "source": [
    "n = len(l)\n",
    "n"
   ]
  },
  {
   "cell_type": "markdown",
   "id": "218f82a8-3063-4d06-83ae-44ce47d2dc6a",
   "metadata": {},
   "source": [
    "### 3) Use slicing to display the first four planets (the rocky planets)"
   ]
  },
  {
   "cell_type": "code",
   "execution_count": 109,
   "id": "80afa21e-6798-4068-8a62-536d974be47d",
   "metadata": {},
   "outputs": [
    {
     "data": {
      "text/plain": [
       "['Mercury', 'Venus', 'Earth', 'Mars']"
      ]
     },
     "execution_count": 109,
     "metadata": {},
     "output_type": "execute_result"
    }
   ],
   "source": [
    "rocky = l[:4]\n",
    "rocky"
   ]
  },
  {
   "cell_type": "markdown",
   "id": "54ba2add-c494-40ef-8759-047b38b84949",
   "metadata": {},
   "source": [
    "### 4) Iterate through your planets and print the planet name only if it has an s at the end"
   ]
  },
  {
   "cell_type": "code",
   "execution_count": 110,
   "id": "f1f2e0b7-c42e-4f5d-88a4-d3ae272cc5d6",
   "metadata": {},
   "outputs": [
    {
     "name": "stdout",
     "output_type": "stream",
     "text": [
      "Venus\n",
      "Mars\n",
      "Uranus\n"
     ]
    }
   ],
   "source": [
    "for i in range(n):\n",
    "    planet = l[i]\n",
    "    n = len(planet)\n",
    "    lastLet = planet[n-1]\n",
    "    if lastLet == 's':\n",
    "        print(planet)"
   ]
  },
  {
   "cell_type": "markdown",
   "id": "36d5c085-b638-4d0e-9b91-d7d877d26967",
   "metadata": {},
   "source": [
    "## Part II: Dictionaries"
   ]
  },
  {
   "cell_type": "markdown",
   "id": "0ef1751f-7f13-4b1e-95b7-08b977b2b4b7",
   "metadata": {},
   "source": [
    "### 1) Now create a dictionary that maps each planet name to its mass"
   ]
  },
  {
   "cell_type": "code",
   "execution_count": 111,
   "id": "eadf1e63-4849-49f9-b379-a7b6d677cf78",
   "metadata": {},
   "outputs": [
    {
     "name": "stdout",
     "output_type": "stream",
     "text": [
      "{'Mercury': 0.33, 'Venus': 4.87, 'Earth': 5.97, 'Mars': 0.642, 'Jupiter': 1898, 'Saturn': 568, 'Uranus': 86.8, 'Neptune': 102}\n"
     ]
    }
   ],
   "source": [
    "pmdict = {'Mercury':0.330, 'Venus':4.87, 'Earth':5.97, 'Mars':0.642, 'Jupiter':1898, 'Saturn':568, 'Uranus':86.8, 'Neptune':102}\n",
    "print(pmdict)"
   ]
  },
  {
   "cell_type": "markdown",
   "id": "b2c8d584-92bc-4c22-9ad4-1cede2166c27",
   "metadata": {},
   "source": [
    "### 2) Use your dictionary to look up Earth’s mass"
   ]
  },
  {
   "cell_type": "code",
   "execution_count": 112,
   "id": "0bda3efe-918b-460a-91ea-270a2b242390",
   "metadata": {},
   "outputs": [
    {
     "name": "stdout",
     "output_type": "stream",
     "text": [
      "The mass of the Earth is 5.97 x 10^24 kg.\n"
     ]
    }
   ],
   "source": [
    "print('The mass of the Earth is', pmdict['Earth'], 'x 10^24 kg.')"
   ]
  },
  {
   "cell_type": "markdown",
   "id": "3e2783df-c612-4f5e-9f61-8c3673fdb56c",
   "metadata": {},
   "source": [
    "### 3) Loop through the data and create a list of planets whose mass is greater than 100 x 10^24 kg"
   ]
  },
  {
   "cell_type": "code",
   "execution_count": 113,
   "id": "b6c12445-a5b7-4f6b-9a0e-88e53bc194d1",
   "metadata": {},
   "outputs": [
    {
     "data": {
      "text/plain": [
       "[['Jupiter', 1898], ['Saturn', 568], ['Neptune', 102]]"
      ]
     },
     "execution_count": 113,
     "metadata": {},
     "output_type": "execute_result"
    }
   ],
   "source": [
    "heavy = []\n",
    "for key in pmdict:\n",
    "    if pmdict[key] >= 100:\n",
    "        heavy.append([key, pmdict[key]])\n",
    "\n",
    "heavy"
   ]
  },
  {
   "cell_type": "markdown",
   "id": "aac81821-cd9f-472c-8379-83f3e0227f27",
   "metadata": {},
   "source": [
    "### 4) Now add pluto to your dictionary"
   ]
  },
  {
   "cell_type": "code",
   "execution_count": 114,
   "id": "4aa4cb57-1d04-46fa-a003-2df59365ab81",
   "metadata": {},
   "outputs": [
    {
     "name": "stdout",
     "output_type": "stream",
     "text": [
      "{'Mercury': 0.33, 'Venus': 4.87, 'Earth': 5.97, 'Mars': 0.642, 'Jupiter': 1898, 'Saturn': 568, 'Uranus': 86.8, 'Neptune': 102, 'Pluto': 0.013}\n"
     ]
    }
   ],
   "source": [
    "pmdict['Pluto'] = 0.0130\n",
    "print(pmdict)"
   ]
  },
  {
   "cell_type": "markdown",
   "id": "ebad60e1-6f17-463c-a9c9-e31edf5d98ac",
   "metadata": {},
   "source": [
    "## Part III: Functions"
   ]
  },
  {
   "cell_type": "markdown",
   "id": "67169a77-1142-4cc1-9eca-231a8953d844",
   "metadata": {},
   "source": [
    "### 1. Write a function to convert temperature 1) from Kelvin to Celsius and 2) from Celsius to Kelvin"
   ]
  },
  {
   "cell_type": "code",
   "execution_count": 115,
   "id": "87b55610-2d31-4c14-825e-082c3b39d4a7",
   "metadata": {},
   "outputs": [],
   "source": [
    "def KtoC(TK):\n",
    "    \"\"\"Convert temperature from Kelvin to Celsius\"\"\"\n",
    "    return round(TK - 273, 1)\n",
    "\n",
    "def CtoK(TC):\n",
    "    \"\"\"Convert temperature from Celsius to Kelvin\"\"\"\n",
    "    return round(TC + 273, 1)\n"
   ]
  },
  {
   "cell_type": "markdown",
   "id": "addfe857-c8e1-4ec8-939c-6ae7b96b7794",
   "metadata": {},
   "source": [
    "### 2. Write a function to convert temperature to Fahrenheit"
   ]
  },
  {
   "cell_type": "code",
   "execution_count": 116,
   "id": "93349f89-e255-4403-aecd-a1d5aa940ac4",
   "metadata": {},
   "outputs": [],
   "source": [
    "def TtoF(T, Kelvin=False):\n",
    "    \"\"\" Convert temperature from either Celsius or Kelvin to Fahrenheit \"\"\"\n",
    "    if Kelvin:\n",
    "        TF = (KtoC(T)*9/5)+32 # ((T-273)*9/5)+32\n",
    "    else:\n",
    "        TF = (T*9/5)+32\n",
    "    return round(TF,1)\n",
    "\n"
   ]
  },
  {
   "cell_type": "markdown",
   "id": "179a335f-7f55-41c2-aaf1-3e987bef58be",
   "metadata": {},
   "source": [
    "### 3. Check that the outputs are sensible by trying a few examples"
   ]
  },
  {
   "cell_type": "code",
   "execution_count": 117,
   "id": "d2dbd96c-004d-4718-bfc2-3fdfbcb0f56a",
   "metadata": {},
   "outputs": [
    {
     "name": "stdout",
     "output_type": "stream",
     "text": [
      "97.0 K is -176.0 C.\n",
      "-20.0 C is 253.0 K.\n",
      "-25.3 C is -13.5 F.\n",
      "170.1 K is -153.2 F.\n"
     ]
    }
   ],
   "source": [
    "# K to C\n",
    "TK = 97.0\n",
    "print(TK, 'K is', KtoC(TK), 'C.')\n",
    "\n",
    "# C to K\n",
    "TC = -20.0\n",
    "print(TC, 'C is', CtoK(TC), 'K.')\n",
    "\n",
    "# C to F\n",
    "T = -25.3\n",
    "print(T, 'C is', TtoF(T), 'F.')\n",
    "\n",
    "# K to F\n",
    "T = 170.1\n",
    "print(T, 'K is', TtoF(T, Kelvin=True), 'F.')"
   ]
  },
  {
   "cell_type": "markdown",
   "id": "2af23e08-d125-4b18-a69b-0862bebd77f5",
   "metadata": {},
   "source": [
    "### 4. Now write a function that converts from Fahrenheit"
   ]
  },
  {
   "cell_type": "code",
   "execution_count": 118,
   "id": "f67807d2-6ace-468d-8027-7886225453cb",
   "metadata": {},
   "outputs": [
    {
     "name": "stdout",
     "output_type": "stream",
     "text": [
      "22.0 F is -5.6 C .\n",
      "22.0 F is 267.4 K .\n"
     ]
    }
   ],
   "source": [
    "def FtoT(TF, Kelvin=False):\n",
    "    \"\"\" Converts from Fahrenheit to either Celsius or Kelvin \"\"\"\n",
    "    if Kelvin:\n",
    "        T = CtoK((TF-32)*5/9)\n",
    "        unit = 'K'\n",
    "    else:\n",
    "        T = (TF-32)*5/9\n",
    "        unit = 'C'\n",
    "\n",
    "    return [round(T,1), unit]\n",
    "\n",
    "TF = 22.0 # F\n",
    "\n",
    "# want in Celsius\n",
    "print(TF,'F is', FtoT(TF)[0], FtoT(TF)[1],'.')\n",
    "\n",
    "# want in Kelvin\n",
    "print(TF, 'F is', FtoT(TF, Kelvin=True)[0],FtoT(TF, Kelvin=True)[1],'.')"
   ]
  },
  {
   "cell_type": "markdown",
   "id": "c64733a4-de71-48d5-961c-e7243f5b7dcb",
   "metadata": {},
   "source": [
    "### 5. Write a function that takes two arguments (feet and inches) and returns height in meters"
   ]
  },
  {
   "cell_type": "code",
   "execution_count": 119,
   "id": "91a9bf51-aef2-4cbf-9077-50d431b68e21",
   "metadata": {},
   "outputs": [],
   "source": [
    "def impToMet(ft, ins):\n",
    "    \"\"\" Converts height units from feet and inches to meters - note: no rounding in function to preserve precision \"\"\"\n",
    "    ft = ft + ins/12\n",
    "    m = 0.3048*ft\n",
    "    return m\n"
   ]
  },
  {
   "cell_type": "markdown",
   "id": "a59d672d-05ad-4d33-b6c5-47d860d25f9e",
   "metadata": {},
   "source": [
    "### 6. Write a function takes one argument (height in meters) and returns two arguments (feet and inches)"
   ]
  },
  {
   "cell_type": "code",
   "execution_count": 120,
   "id": "b1ac806c-b219-470e-9e4e-2a121aca7b09",
   "metadata": {},
   "outputs": [],
   "source": [
    "def metToImp(m):\n",
    "    \"\"\" Converts height units from meters to feet and inches - note: no rounding in function to preserve precision \"\"\"\n",
    "    ft = m//0.3048\n",
    "    ins = (m/0.3048 - ft)*12\n",
    "    return ft, ins"
   ]
  },
  {
   "cell_type": "markdown",
   "id": "3400a28a-15a4-44cb-ab7b-c5ecc5b10144",
   "metadata": {},
   "source": [
    "### 7. Verify that the “round trip” conversion from and back to meters is consistent"
   ]
  },
  {
   "cell_type": "code",
   "execution_count": 121,
   "id": "9c55f1d9-bb3a-4b02-bccf-fdb7bfe9b883",
   "metadata": {},
   "outputs": [
    {
     "name": "stdout",
     "output_type": "stream",
     "text": [
      "Input height in meters is 1.61 m (raw input: 1.6097 m).\n",
      "Input height in feet and inches is 5 ft 5.0 in.\n",
      "Output height in meters is 1.61 m (raw output: 1.6097 m).\n"
     ]
    }
   ],
   "source": [
    "# Check for 3 different values of height in meters\n",
    "\n",
    "# Height 1\n",
    "h1 = 1.6097\n",
    "print('Input height in meters is', round(h1,2),'m (raw input:',h1,'m).')\n",
    "\n",
    "h1imp = metToImp(h1)\n",
    "print('Input height in feet and inches is', round(h1imp[0]),'ft', round(h1imp[0],1),'in.')\n",
    "\n",
    "h1met = impToMet(h1imp[0],h1imp[1])\n",
    "print('Output height in meters is', round(h1met,2), 'm (raw output:', h1met,'m).')\n"
   ]
  },
  {
   "cell_type": "code",
   "execution_count": 122,
   "id": "e5c29fa0-ec24-4afc-90f5-59965211b4f0",
   "metadata": {},
   "outputs": [
    {
     "name": "stdout",
     "output_type": "stream",
     "text": [
      "Input height in meters is 1.73 m (raw input: 1.73 m).\n",
      "Input height in feet and inches is 5 ft 5.0 in.\n",
      "Output height in meters is 1.73 m (raw output: 1.73 m).\n"
     ]
    }
   ],
   "source": [
    "# Height 2\n",
    "h2 = 1.73\n",
    "print('Input height in meters is', round(h2,2),'m (raw input:',h2,'m).')\n",
    "\n",
    "h2imp = metToImp(h2)\n",
    "print('Input height in feet and inches is', round(h2imp[0]),'ft', round(h2imp[0],1),'in.')\n",
    "\n",
    "h2met = impToMet(h2imp[0],h2imp[1])\n",
    "print('Output height in meters is', round(h2met,2), 'm (raw output:', h2met,'m).')\n"
   ]
  },
  {
   "cell_type": "code",
   "execution_count": 123,
   "id": "1c30c009-cdb4-436f-b43e-0ba3fba15a47",
   "metadata": {},
   "outputs": [
    {
     "name": "stdout",
     "output_type": "stream",
     "text": [
      "Input height in meters is 1.82 m (raw input: 1.818 m).\n",
      "Input height in feet and inches is 5 ft 5.0 in.\n",
      "Output height in meters is 1.82 m (raw output: 1.818 m).\n"
     ]
    }
   ],
   "source": [
    "# Height 3\n",
    "h3 = 1.818\n",
    "print('Input height in meters is', round(h3,2),'m (raw input:',h3,'m).')\n",
    "\n",
    "h3imp = metToImp(h3)\n",
    "print('Input height in feet and inches is', round(h3imp[0]),'ft', round(h3imp[0],1),'in.')\n",
    "\n",
    "h3met = impToMet(h3imp[0],h3imp[1])\n",
    "print('Output height in meters is', round(h3met,2), 'm (raw output:', h3met,'m).')"
   ]
  },
  {
   "cell_type": "code",
   "execution_count": null,
   "id": "0d58ba51-1cb6-4869-8c65-5d10c0b7ea50",
   "metadata": {},
   "outputs": [],
   "source": []
  }
 ],
 "metadata": {
  "kernelspec": {
   "display_name": "pangeo23",
   "language": "python",
   "name": "pangeo23"
  },
  "language_info": {
   "codemirror_mode": {
    "name": "ipython",
    "version": 3
   },
   "file_extension": ".py",
   "mimetype": "text/x-python",
   "name": "python",
   "nbconvert_exporter": "python",
   "pygments_lexer": "ipython3",
   "version": "3.11.6"
  }
 },
 "nbformat": 4,
 "nbformat_minor": 5
}
